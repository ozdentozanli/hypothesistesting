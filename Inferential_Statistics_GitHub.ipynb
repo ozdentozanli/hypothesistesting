{
  "nbformat": 4,
  "nbformat_minor": 0,
  "metadata": {
    "colab": {
      "name": "Inferential Statistics - GitHub.ipynb",
      "provenance": [],
      "collapsed_sections": []
    },
    "kernelspec": {
      "name": "python3",
      "display_name": "Python 3"
    }
  },
  "cells": [
    {
      "cell_type": "markdown",
      "metadata": {
        "id": "qAbFC7VY7_Y3"
      },
      "source": [
        "# **Hypothesis Testing**\n",
        "\n",
        "<p align = \"justify\"> Inferential statistics consists of a set of procedures that enables us to draw conclusions about the characteristics of a whole population by studying the properties of a sample of a population.</p>\n",
        " \n",
        "**Remember:** Hypotheses are always **statements about the population** or distribution under study, **not statements about the sample**.\n",
        "\n",
        "> ## **General Procedures for Hypothesis Testing**\n",
        "\n",
        "> Hypothesis testing procedures rely on using the information in a random sample from the population.\n",
        "\n",
        "> **1.** Identify parameters of interest\n",
        "\n",
        "> **2.** State null and alternative hypothesis\n",
        "\n",
        "> **3.** Select a significance level $\\alpha$\n",
        "\n",
        "> **4.** Determine the appropriate test statistics\n",
        "\n",
        "> **5.** Calculate test statistics\n",
        "\n",
        "> **6.** Calculate rejection criteria and compute p-value\n",
        "\n",
        "> **7.** Make statistical decision and interpret results\n",
        "\n",
        "\n",
        "Let elaborate on each step on the testing procedure."
      ]
    },
    {
      "cell_type": "markdown",
      "metadata": {
        "id": "vr2gTKPpIktH"
      },
      "source": [
        "### **1. Identify parameters of interest**\n",
        "\n",
        "#### **Known Population Parameters vs Unkown Population Parameters**\n",
        "\n",
        "A statistical hypothesis can be thought of as a statement about the probability distribution of a random variable.\n",
        "\n",
        "\\\n",
        "We have a random $X_1$, $X_2$,..., $X_n$ from a normal population. Sample mean $\\bar{X}$ is an estimate of the true population mean $\\mu$, and therefore, it is the **test statistic**.\n",
        "\n",
        "\\\n",
        "\n",
        "If the information obtained from a random sample of a population is consistent with the hypothesis, we do not reject hypothesis. Otherwise we reject the hypothesis. \n",
        "\n",
        "\\\n",
        "\n",
        "Hypothesis-testing procedure should be developed with the probability of reaching a wrong conclusion in mind since we do not work with the entire population but a random sample of it.\n",
        "\n"
      ]
    },
    {
      "cell_type": "markdown",
      "metadata": {
        "id": "UJdZKneg7ZjT"
      },
      "source": [
        "### **2. State null and alternative hypotheses**\n",
        "\n",
        "##### **Hypothesis Tests on Mean**\n",
        "\n",
        "Suppose that we wish to test the hypotheses:\n",
        "<p align = \"center\"> $H_0$ : $\\mu$ = $\\mu_0$\n",
        "\n",
        "<p align = \"center\"> $H_1$ : $\\mu$ $\\ne$ $\\mu_0$ </p>\n",
        "\n",
        "\\\n",
        "A sample mean $\\bar{x}$ that falls close to the hypothesized value of the population mean $\\mu$ does **not** conflict with the null hypothesis $H_0$. \n",
        "\n",
        "On the other hand, a sample mean $\\bar{x}$ that considerably different from the population mean $\\mu$ supports the alternative hypothesis $H_1$.\n"
      ]
    },
    {
      "cell_type": "markdown",
      "metadata": {
        "id": "JOeB_rMZs1RX"
      },
      "source": [
        "### **3. Select a significance level  𝛼  and the critical value**\n",
        "\n",
        "Sample mean may take different values. Therefore, we find an interval for sample mean $\\bar{x}$ that forms a region for which we will fail to reject the null hypothesis. This is also called **acceptance region**.\n",
        "\n",
        "\\\n",
        "\n",
        "A sample mean falls outside of this region favors the alternative hypothesis $H_1$, where we reject the null hypothesis. This is also called **critical region**.\n",
        "\n",
        "\\\n",
        "\n",
        "The boundaries between the critical and acceptance region are called **critical values**.\n",
        "\n",
        "\\\n",
        "\n",
        "\n",
        "\n",
        "\n",
        "Since we make assumptions for a population over a random sample of it, there is always a chance for being led to wrong conclusions. For example, after the test, we may observe that $\\bar{x}$ falls into the critical region and reject the null hypothesis $H_0$ while it was true. This error leads to **Type I error**.\n",
        "\n",
        "\\\n",
        "\n",
        "In the opposite case, we may fail to reject the null hypothesis while it was false. This error is called **Type II error**.\n",
        "\n",
        "\\\n",
        "\n",
        "> The probability of making Type I error is called **significance level** and denoted by *$\\alpha$*. This error is also known as the **sample size error**.\n",
        "\n",
        "\\\n",
        "\n",
        "<p align = \"center\"> $\\alpha$ = Significance level = P(Type I error) = P(Reject $H_0$ when $H_0$ is true) </p>\n",
        "\n",
        "\\\n",
        "\n",
        "> The probability of making Type II error is denoted by $\\beta$ or $\\beta$-error.\n",
        "\n",
        "\\\n",
        "<p align = \"center\"> $\\beta$ = $\\beta$-error = P(Type II error) = P(Fail to reject $H_0$ when $H_0$ is false) </p>\n",
        "\n",
        "\\\n",
        "\n",
        "> The power of a statistical test is the probability of correctly rejecting the null hypothesis $H_0$ when the alternative hypothesis $H_1$ is true. Power is the **sensitivity** of the statistical test and it shows the percentage of correctly rejecting $H_0$. If the power of the test is low, we may increase the sample size *n* or $\\alpha$.\n",
        "<p align = \"center\"> Power = 1 - $\\beta$\n",
        "\n",
        "\\\n",
        "\n",
        "Let's take a closer look to test regions based on a sampling distribution.\n",
        "\n"
      ]
    },
    {
      "cell_type": "markdown",
      "metadata": {
        "id": "DQ3ML28oZoXi"
      },
      "source": [
        "#### **a. Sampling Distribution for Two-Tailed Test**\n",
        "\n",
        "Let's assume $\\bar{X}$ has a normal distribution with mean $\\mu_0$ and standard deviation $\\sigma$/$\\sqrt{n}$ if the null hypothesis is true. We can calculate a  p-value or construct a critical region based on a computed value of the sample mean $\\bar{X}$.\n",
        "\n",
        "It is usually convenient to standardize the sample mean $\\bar{x}$ and calculate test statistics based on a standard normal distribution.\n",
        "\n",
        "Since the sample mean is normally distributed with mean = 0 and variance = 1, it has an area under the curve of 1 (*~N(0,1)*). \n",
        "\n",
        "\n",
        "Assume $\\alpha$ = 0.05 *(significance level)*\n",
        "\n",
        "> ***Critical Region can be visualized as follows:*** "
      ]
    },
    {
      "cell_type": "code",
      "metadata": {
        "id": "OGsF14z3omId",
        "cellView": "both"
      },
      "source": [
        "import numpy as np\n",
        "import pandas as pd\n",
        "import statsmodels.api as sm\n",
        "import math\n",
        "import seaborn as sns\n",
        "import scipy.stats as stats\n",
        "import numpy as np\n",
        "import random\n",
        "from scipy.stats import norm\n",
        "import matplotlib.pyplot as plt\n",
        "%matplotlib inline"
      ],
      "execution_count": null,
      "outputs": []
    },
    {
      "cell_type": "code",
      "metadata": {
        "id": "_KcmV_G6pnZa",
        "cellView": "form",
        "colab": {
          "base_uri": "https://localhost:8080/",
          "height": 343
        },
        "outputId": "e99f0bb5-55a8-4602-c266-c8366cd42763"
      },
      "source": [
        "#@title\n",
        "values = np.random.normal(loc=0, scale=1, size=6000)\n",
        "alpha_05_positive = np.mean(values) + np.std(values)*1.96\n",
        "alpha_05_negative = np.mean(values) - np.std(values)*1.96\n",
        "kde = stats.gaussian_kde(values)\n",
        "pos = np.linspace(np.min(values), np.max(values))\n",
        "plt.plot(pos, kde(pos), color='dodgerblue')\n",
        "shade = np.linspace(alpha_05_positive, 4, 300)\n",
        "plt.fill_between(shade, kde(shade), alpha=0.45, color='dodgerblue')\n",
        "shade2 = np.linspace(alpha_05_negative, -4, 300)\n",
        "plt.fill_between(shade2, kde(shade2), alpha=0.45, color='dodgerblue')\n",
        "plt.title(\"Sampling Distribution for Two-Tailed Hypothesis Test\", y=1.15, fontsize=20)\n",
        "plt.xlabel(\"sample mean value\", labelpad=14)\n",
        "plt.ylabel(\"frequency of occurence\", labelpad=14);"
      ],
      "execution_count": null,
      "outputs": [
        {
          "output_type": "display_data",
          "data": {
            "image/png": "[encoded data removed]",
            "text/plain": [
              "<Figure size 432x288 with 1 Axes>"
            ]
          },
          "metadata": {
            "tags": [],
            "needs_background": "light"
          }
        }
      ]
    },
    {
      "cell_type": "markdown",
      "metadata": {
        "id": "IYfqeNSRxoBV"
      },
      "source": [
        "> ***Acceptance Region can be visualized as follows:***"
      ]
    },
    {
      "cell_type": "code",
      "metadata": {
        "id": "wkxl-824xrrk",
        "cellView": "form",
        "colab": {
          "base_uri": "https://localhost:8080/",
          "height": 343
        },
        "outputId": "b1311373-465c-4b71-c976-f11f22c880a0"
      },
      "source": [
        "#@title\n",
        "values = np.random.normal(loc=0, scale=1, size=6000)\n",
        "alpha_05_positive = np.mean(values) + np.std(values)*1.96\n",
        "alpha_05_negative = np.mean(values) - np.std(values)*1.96\n",
        "kde = stats.gaussian_kde(values)\n",
        "pos = np.linspace(np.min(values), np.max(values))\n",
        "plt.plot(pos, kde(pos), color='dodgerblue')\n",
        "shade = np.linspace(alpha_05_negative, alpha_05_positive, 300)\n",
        "plt.fill_between(shade, kde(shade), alpha=0.45, color='dodgerblue')\n",
        "#shade2 = np.linspace(alpha_05_negative, -4, 300)\n",
        "#plt.fill_between(shade2, kde(shade2), alpha=0.45, color='dodgerblue')\n",
        "plt.title(\"Sampling Distribution for Two-Tailed Hypothesis Test\", y=1.15, fontsize=20)\n",
        "plt.xlabel(\"sample mean value\", labelpad=14)\n",
        "plt.ylabel(\"frequency of occurence\", labelpad=14);"
      ],
      "execution_count": null,
      "outputs": [
        {
          "output_type": "display_data",
          "data": {
            "image/png": "[encoded data removed]",
            "text/plain": [
              "<Figure size 432x288 with 1 Axes>"
            ]
          },
          "metadata": {
            "tags": [],
            "needs_background": "light"
          }
        }
      ]
    },
    {
      "cell_type": "markdown",
      "metadata": {
        "id": "x87JsQiEszM7"
      },
      "source": [
        "#### **b. Sampling Distribution for Lower-Tailed Test**\n",
        "\n",
        "$H_0$ : $\\mu$ = $\\mu_0$\n",
        "\n",
        "$H_1$ : $\\mu$ $\\gt$ $\\mu_0$\n",
        "\n",
        "$\\alpha$ = 0.05"
      ]
    },
    {
      "cell_type": "code",
      "metadata": {
        "id": "dsf5gJtapjuP",
        "cellView": "form",
        "colab": {
          "base_uri": "https://localhost:8080/",
          "height": 343
        },
        "outputId": "e2f89b3c-908c-4e0e-e5e0-3c0a466afaab"
      },
      "source": [
        "#@title\n",
        "values = np.random.normal(loc=0, scale=1, size=6000)\n",
        "two_std_from_mean = np.mean(values) - np.std(values)*1.645\n",
        "kde = stats.gaussian_kde(values)\n",
        "pos = np.linspace(np.min(values), np.max(values))\n",
        "plt.plot(pos, kde(pos), color='dodgerblue')\n",
        "shade = np.linspace(two_std_from_mean, -4, 300)\n",
        "plt.fill_between(shade, kde(shade), alpha=0.45, color='dodgerblue')\n",
        "plt.title(\"Sampling Distribution for Lower-Tailed Hypothesis Test\", y=1.15, fontsize=20)\n",
        "plt.xlabel(\"sample mean value\", labelpad=14)\n",
        "plt.ylabel(\"frequency of occurence\", labelpad=14);"
      ],
      "execution_count": null,
      "outputs": [
        {
          "output_type": "display_data",
          "data": {
            "image/png": "[encoded data removed]",
            "text/plain": [
              "<Figure size 432x288 with 1 Axes>"
            ]
          },
          "metadata": {
            "tags": [],
            "needs_background": "light"
          }
        }
      ]
    },
    {
      "cell_type": "markdown",
      "metadata": {
        "id": "vqoCsOTet4cc"
      },
      "source": [
        "#### **c. Sampling Distribution for Upper-Tailed Test**\n",
        "\n",
        "$H_0$ : $\\mu$ = $\\mu_0$\n",
        "\n",
        "$H_1$ : $\\mu$ $\\lt$ $\\mu_0$"
      ]
    },
    {
      "cell_type": "code",
      "metadata": {
        "id": "md4lny4Vtyl4",
        "cellView": "form",
        "colab": {
          "base_uri": "https://localhost:8080/",
          "height": 343
        },
        "outputId": "2848c8ed-475a-4a11-8b5c-7e0aa2e42b19"
      },
      "source": [
        "#@title\n",
        "values = np.random.normal(loc=0, scale=1, size=6000)\n",
        "two_std_from_mean = np.mean(values) + np.std(values)*1.645\n",
        "kde = stats.gaussian_kde(values)\n",
        "pos = np.linspace(np.min(values), np.max(values))\n",
        "plt.plot(pos, kde(pos), color='dodgerblue')\n",
        "shade = np.linspace(two_std_from_mean, 4, 300)\n",
        "plt.fill_between(shade, kde(shade), alpha=0.45, color='dodgerblue')\n",
        "plt.title(\"Sampling Distribution for Upper-Tailed Hypothesis Test\", y=1.15, fontsize=20)\n",
        "plt.xlabel(\"sample mean value\", labelpad=14)\n",
        "plt.ylabel(\"frequency of occurence\", labelpad=14);"
      ],
      "execution_count": null,
      "outputs": [
        {
          "output_type": "display_data",
          "data": {
            "image/png": "[encoded data removed]",
            "text/plain": [
              "<Figure size 432x288 with 1 Axes>"
            ]
          },
          "metadata": {
            "tags": [],
            "needs_background": "light"
          }
        }
      ]
    },
    {
      "cell_type": "markdown",
      "metadata": {
        "id": "jiKBwpYpG8-b"
      },
      "source": [
        "### **4 & 5. Determine the appropriate test statistics & Calculate test statistics**\n",
        "\n",
        "> #### **Z-test**\n",
        "\n",
        "Assume that mean $\\mu$ and variance $\\sigma^2$ of population are **known**. The reference distribution is **z-distribution** and test statistics is **z-test**. \n",
        "<p align = \"center\"> $Z_0$ = $\\frac{\\bar{X}-\\mu_0}{\\sigma/\\sqrt{n}}$ </p>\n",
        "\n",
        "* **$\\sigma$** : population standard deviation\n",
        "* **n** : sample size\n",
        "\n",
        "\n",
        "**Standard Error** : SE = $\\frac{\\sigma}{\\sqrt{n}}$\n",
        "\n",
        "\n",
        "\n",
        "\n",
        "> #### **T-test**\n",
        "\n",
        "Suppose we wish to test hypothesis on the mean of a population with **unknown variance** $\\sigma^2$:\n",
        "\n",
        "\n",
        "The test procedure relies where $X_1$, $X_2$, $X_3$,..., $X_n$ is a random sample from a normal distribution with mean $\\mu$ and variance $\\sigma^2$. The reference distribution is **t-distribution** and test statistics is **t-test**. The random variable has a t-distribution with ***n-1*** degrees of freedom.\n",
        "\n",
        "<p align = \"center\"> $T_0 = \\frac{\\bar{X}-\\mu_0}{S/\\sqrt{n}}$\n",
        "\n",
        "\n"
      ]
    },
    {
      "cell_type": "markdown",
      "metadata": {
        "id": "g-ZYAVc5kBzG"
      },
      "source": [
        "### **6 & 7. Calculate rejection criteria and compute p-value & Make statistical decision and interpret results**\n",
        "\n",
        "Critical regions can be presented as test statistics (*z-test or t-test*) or in the computed value of the sample mean $\\bar{x}$.\n",
        "\n",
        "> **Z-test**\n",
        "\n",
        "<p align = \"center\"> Acceptance region: $-z_{\\alpha/2} \\le z_0 \\le z_{\\alpha/2}$\n",
        "\n",
        "<p align = \"center\"> Confidence interval: $\\mu_0 - z_{\\alpha/2}\\sigma/\\sqrt{n} \\le \\mu \\le \\mu_0 + z_{\\alpha/2}\\sigma/\\sqrt{n}$\n",
        "\n",
        "> **T-test**\n",
        "\n",
        "<p align = \"center\"> Acceptance region: $-t_{\\alpha/2, n-1} \\le t_0 \\le t_{\\alpha/2, n-1}$\n",
        "\n",
        "<p align = \"center\"> Confidence interval: $\\mu_0 - t_{\\alpha/2, n-1}s\\sqrt{n} \\le \\mu \\le \\mu_0 + t_{\\alpha/2, n-1}s/\\sqrt{n}$\n",
        "\n",
        "\\\n",
        "\n",
        "*p-value* is the observed significance level. It conveys information about the weight of evidence against the null hypothesis  $𝐻_0$. Therefore, we can draw conclusions at any specified significance level and mitigate the risk of  𝛼.\n",
        "\n",
        "> **p-value for Z-test**\n",
        "\n",
        "<p align = \"center\"> P = 2*P(1- $\\Phi(|z_0|))$\n",
        "\n",
        "> **p-value for T-test**\n",
        "\n",
        "<p align = \"center\"> P = 2*P($T_{n-1} \\gt |t_0|)$"
      ]
    },
    {
      "cell_type": "markdown",
      "metadata": {
        "id": "5z7uJdQBpjYf"
      },
      "source": [
        "## **Example 1**\n",
        "<p align = \"justify\"> A manufacturer produces crankshafts for an automobile engine. The wear of the crankshaft after 100,000 miles (0.0001 inch) is of interest because it is likely to have an impact on warranty claims. A random sample of n=15 shafts is tested and $\\bar{x}$ = 2.78. It is known that $\\sigma$ = 0.9 and that wear is normally distributed. </p>"
      ]
    },
    {
      "cell_type": "markdown",
      "metadata": {
        "id": "cv61XxCRsSm-"
      },
      "source": [
        "##### a) Test $H_0$: $\\mu$ = 3 versus $H_1$= $\\mu$ $\\ne$ 3 using $\\alpha$ = 0.05.\n",
        "\n",
        "\n"
      ]
    },
    {
      "cell_type": "markdown",
      "metadata": {
        "id": "9Ve2lkeU07A4"
      },
      "source": [
        "> We first **identify the parameters**:\n",
        "\n",
        "> n = 15\n",
        "\n",
        "> $\\sigma$ = 0.9 *(Population variance is known)*\n",
        "\n",
        "> $\\bar{x}$ = 2.78\n"
      ]
    },
    {
      "cell_type": "code",
      "metadata": {
        "id": "Lptnp_MVmaEN"
      },
      "source": [
        "x_bar = 2.78\n",
        "mu=3\n",
        "std = 0.9\n",
        "n=15"
      ],
      "execution_count": null,
      "outputs": []
    },
    {
      "cell_type": "markdown",
      "metadata": {
        "id": "hDI2GW3y0jVt"
      },
      "source": [
        "\n",
        "> Then we **state the null and alternative hypotheses**:\n",
        "\n",
        "> $H_0$: $\\mu$ = 3 \n",
        "\n",
        "> $H_1$= $\\mu$ $\\ne$ 3\n",
        "\n",
        "> The significance level of the test (*$\\alpha$*) is given as 0.05.\n",
        "\n",
        "> Since the variance is known, we apply z-test *(test statistics)*\n",
        "\n",
        "> $Z_0$ = $\\frac{\\bar{X}-\\mu_0}{SE}$\n",
        "\n",
        "\\\n",
        "\n",
        "> **Now let's find test statistics.**\n"
      ]
    },
    {
      "cell_type": "markdown",
      "metadata": {
        "id": "12x-opr04zgF"
      },
      "source": [
        "> First, we find SE:\n",
        "\n",
        "> SE = $\\frac{\\sigma}{\\sqrt{n}}$"
      ]
    },
    {
      "cell_type": "code",
      "metadata": {
        "id": "PEdOaVmFmmID",
        "colab": {
          "base_uri": "https://localhost:8080/",
          "height": 34
        },
        "outputId": "2e6ca10b-63a1-4b8e-ea07-91277685e1a3"
      },
      "source": [
        "SE = std/math.sqrt(n)\n",
        "print(SE)"
      ],
      "execution_count": null,
      "outputs": [
        {
          "output_type": "stream",
          "text": [
            "0.232379000772445\n"
          ],
          "name": "stdout"
        }
      ]
    },
    {
      "cell_type": "markdown",
      "metadata": {
        "id": "0cziDH5umpx8"
      },
      "source": [
        "> Then, z-distribution:"
      ]
    },
    {
      "cell_type": "code",
      "metadata": {
        "id": "VvY2NVlUsRO9",
        "colab": {
          "base_uri": "https://localhost:8080/",
          "height": 34
        },
        "outputId": "2a1d363a-cd35-4df9-d047-7c38b61a9aaf"
      },
      "source": [
        "z0 = (x_bar-mu)/SE\n",
        "print(z0)"
      ],
      "execution_count": null,
      "outputs": [
        {
          "output_type": "stream",
          "text": [
            "-0.9467292624062583\n"
          ],
          "name": "stdout"
        }
      ]
    },
    {
      "cell_type": "markdown",
      "metadata": {
        "id": "QpfuJMHenChS"
      },
      "source": [
        "-0.95 falls between -1.96 and 1.96."
      ]
    },
    {
      "cell_type": "markdown",
      "metadata": {
        "id": "at1P_sTF487R"
      },
      "source": [
        " **Let's find critical values and the acceptance region**"
      ]
    },
    {
      "cell_type": "code",
      "metadata": {
        "id": "Xahpo_cQ12ZR",
        "cellView": "code",
        "colab": {
          "base_uri": "https://localhost:8080/",
          "height": 51
        },
        "outputId": "9f8215e2-9899-4a08-d980-2b9ae95fc6a9"
      },
      "source": [
        "if (z0 > -(norm.ppf(0.025)) and z0 < norm.ppf(0.025)):\n",
        "    Hypothesis_Status = 'Reject Null Hypothesis : Significant'\n",
        "else:\n",
        "    Hypothesis_Status = 'Do not reject Null Hypothesis : Not Significant'\n",
        "\n",
        "print(Hypothesis_Status)\n",
        "\n",
        "z_positive = mu + (abs(norm.ppf(0.025))*SE)\n",
        "z_negative = mu - (abs(norm.ppf(0.025))*SE)\n",
        "print('Confidence interval is between', z_negative, 'and', z_positive,'.')"
      ],
      "execution_count": null,
      "outputs": [
        {
          "output_type": "stream",
          "text": [
            "Do not reject Null Hypothesis : Not Significant\n",
            "Confidence interval is between 2.5445455277226023 and 3.4554544722773977 .\n"
          ],
          "name": "stdout"
        }
      ]
    },
    {
      "cell_type": "markdown",
      "metadata": {
        "id": "n49-Xkgq_OBa"
      },
      "source": [
        "***Critical values*** are ***2.54*** and ***3.45***\n",
        "\n",
        "***Acceptance region*** is within ***$2.54 \\lt \\bar{x} \\lt 3.45$*** --> Fail to Reject $H_0$\n",
        "\n",
        "Result: Fail to Reject."
      ]
    },
    {
      "cell_type": "markdown",
      "metadata": {
        "id": "iWZ3eNdd5Irj"
      },
      "source": [
        "**Let's find *p*-value**"
      ]
    },
    {
      "cell_type": "code",
      "metadata": {
        "id": "zAV9KhDN4yFt",
        "colab": {
          "base_uri": "https://localhost:8080/",
          "height": 51
        },
        "outputId": "5d960ed6-1621-4e2e-92b2-14c600413f83"
      },
      "source": [
        "#p_value = round(1-stats.norm.cdf(z0), 3)\n",
        "pvalue = 2*(1 - norm.cdf(abs(z0)))\n",
        "print(p_value)\n",
        "if (pvalue < 0.05):\n",
        "    Hypothesis_Status = 'Reject Null Hypothesis : Significant'\n",
        "else:\n",
        "    Hypothesis_Status = 'Do not reject Null Hypothesis : Not Significant'\n",
        "print(Hypothesis_Status)"
      ],
      "execution_count": null,
      "outputs": [
        {
          "output_type": "stream",
          "text": [
            "0.025000000000003908\n",
            "Do not reject Null Hypothesis : Not Significant\n"
          ],
          "name": "stdout"
        }
      ]
    },
    {
      "cell_type": "markdown",
      "metadata": {
        "id": "wcSDgBco_2tT"
      },
      "source": [
        "*p*-value $\\gt$ 0.05. Fail to reject $H_0$"
      ]
    },
    {
      "cell_type": "code",
      "metadata": {
        "id": "BQl8FiOI261_",
        "cellView": "form",
        "colab": {
          "base_uri": "https://localhost:8080/",
          "height": 343
        },
        "outputId": "45639471-25ce-412f-e674-59203814997c"
      },
      "source": [
        "#@title\n",
        "sample_means = np.random.normal(loc=3, scale=0.9, size=10000)\n",
        "kde = stats.gaussian_kde(sample_means)\n",
        "pos = np.linspace(np.min(sample_means), np.max(sample_means), 10000)\n",
        "plt.plot(pos, kde(pos), color='darkviolet')\n",
        "shade = np.linspace(z_positive, 6,15)\n",
        "plt.fill_between(shade, kde(shade), alpha=0.45, color='darkviolet')\n",
        "shade2 = np.linspace(0, z_negative, 15)\n",
        "plt.fill_between(shade2, kde(shade2), alpha=0.45, color='darkviolet')\n",
        "plt.axvline(x=2.78, linestyle='--', linewidth=2.5, label=\"sample mean with n = 15 shafts\", c='purple')\n",
        "plt.title(\"Sampling Distribution\", y=1.15, fontsize=20)\n",
        "plt.xlabel(\"sample mean\", labelpad=14)\n",
        "plt.ylabel(\"probability of occurence\", labelpad=14)\n",
        "plt.legend();"
      ],
      "execution_count": null,
      "outputs": [
        {
          "output_type": "display_data",
          "data": {
            "image/png": "[encoded data removed]",
            "text/plain": [
              "<Figure size 432x288 with 1 Axes>"
            ]
          },
          "metadata": {
            "tags": [],
            "needs_background": "light"
          }
        }
      ]
    },
    {
      "cell_type": "markdown",
      "metadata": {
        "id": "XAV7MiXD8zsa"
      },
      "source": [
        "##### b) What is the power of this test if $\\mu$ = 3.25?"
      ]
    },
    {
      "cell_type": "markdown",
      "metadata": {
        "id": "uRNPHiAVBvST"
      },
      "source": [
        "> Suppose the null hypothesis $H_0$ is false and the true value of the mean is\n",
        "\n",
        "> $\\mu = \\mu_0 + \\delta$, where $\\delta \\gt 0$.\n",
        "\n",
        "> Then, the z-distribution ($Z_0$) when $H_1$ is true:\n",
        "\n",
        "> $Z_0$ ~ $N(\\frac{\\delta\\sqrt{n}}{\\sigma}, 1)$"
      ]
    },
    {
      "cell_type": "markdown",
      "metadata": {
        "id": "eJXMHFe_9GJm"
      },
      "source": [
        "> If we know the true mean of the population, we can find the power of test as:\n",
        "\n",
        "> **Power** = 1- $\\beta$\n",
        "\n",
        "> Knowing the true value of the population mean, the $\\beta$-error will also be revised as:\n",
        "\n",
        "> $\\beta = \\Phi$ $(z_{\\alpha/2}- \\frac{\\delta\\sqrt{n}}{\\sigma}) - \\Phi$ $(-z_{\\alpha/2} - \\frac{\\delta\\sqrt{n}}{\\sigma})$"
      ]
    },
    {
      "cell_type": "markdown",
      "metadata": {
        "id": "MHRqWa0s-YUb"
      },
      "source": [
        "Given that the significance level $\\alpha$ = 0.05:"
      ]
    },
    {
      "cell_type": "code",
      "metadata": {
        "id": "6-GVT2ve26r1",
        "colab": {
          "base_uri": "https://localhost:8080/",
          "height": 34
        },
        "outputId": "1de3b8fe-e946-43ab-c71c-c27b73eb3646"
      },
      "source": [
        "zp_critical = norm.ppf(0.025)-(((3.25-3)*math.sqrt(15))/0.9)\n",
        "zn_critical = -(norm.ppf(0.025))-(((3.25-3)*math.sqrt(15))/0.9)\n",
        "zp_new = norm.cdf(abs(zp_critical))\n",
        "zn_new = norm.cdf(abs(zn_critical))\n",
        "beta = zp_new - zn_new\n",
        "power = 1-beta\n",
        "print(beta, power)"
      ],
      "execution_count": null,
      "outputs": [
        {
          "output_type": "stream",
          "text": [
            "0.18711207465963453 0.8128879253403655\n"
          ],
          "name": "stdout"
        }
      ]
    },
    {
      "cell_type": "markdown",
      "metadata": {
        "id": "3wPp5ZgNNeaw"
      },
      "source": [
        "The probability of correctly rejecting a false null hypothesis is ~0.81 when $\\mu$ = 3.25 and n = 15."
      ]
    },
    {
      "cell_type": "markdown",
      "metadata": {
        "id": "c1Rv2-CePDi2"
      },
      "source": [
        "> The probability of Type II error ($\\beta$) depends on the choice of sample size. Change in sample size will increase the power of the test.\n",
        "\n",
        "> n = $\\frac{(z_{\\alpha/2}+z_{\\beta})^2\\sigma^2}{\\delta^2}$"
      ]
    },
    {
      "cell_type": "markdown",
      "metadata": {
        "id": "TLGDcsOFQsg8"
      },
      "source": [
        "> n = $\\frac{(z_{0.025}+z_{0.10})^2\\sigma^2}{\\delta^2}$"
      ]
    },
    {
      "cell_type": "markdown",
      "metadata": {
        "id": "DLF7D-3cWZHC"
      },
      "source": [
        "## **Example 2**\n",
        "\n",
        "Test of $\\mu$\u0005= 12 vs $\\mu \\ne$ 12\n",
        "\n",
        "    |Variable  | N  |  Mean   |  StDev  |  SE Mean  |   T   |   P  |\n",
        "    |----------|----|---------|---------|-----------|-------|------|\n",
        "    |x         | 10 |  12.564 |  ?      |  0.296    |   ?   |   ?  |"
      ]
    },
    {
      "cell_type": "markdown",
      "metadata": {
        "id": "AZn5aBGReX24"
      },
      "source": [
        "##### a) Is this is a one-sided or two-sided test?"
      ]
    },
    {
      "cell_type": "code",
      "metadata": {
        "id": "HqHd1m_TR_xT",
        "cellView": "form"
      },
      "source": [
        "#@title\n",
        "Two-sided test"
      ],
      "execution_count": null,
      "outputs": []
    },
    {
      "cell_type": "markdown",
      "metadata": {
        "id": "AZUE1E4zcmf_"
      },
      "source": [
        "##### b) How many degrees of freedom are there on the t-test statistics?"
      ]
    },
    {
      "cell_type": "markdown",
      "metadata": {
        "id": "dk-_zA0tcu7k"
      },
      "source": [
        "n-1 = 9"
      ]
    },
    {
      "cell_type": "markdown",
      "metadata": {
        "id": "CUBzB93ecxzN"
      },
      "source": [
        "##### c) Fill in the missing values. What conclusion would you draw?"
      ]
    },
    {
      "cell_type": "markdown",
      "metadata": {
        "id": "jg6x1jeT-1il"
      },
      "source": [
        "> **Let's identify the test parameters**\n",
        "\n",
        "> n : sample size\n",
        "\n",
        "> $\\bar{x}$ : sample mean\n",
        "\n",
        "> S : Sample standard deviation\n",
        "\n",
        "> SE ($S_{\\bar{x}}$) : Estimated standard error (SE) of the mean"
      ]
    },
    {
      "cell_type": "code",
      "metadata": {
        "id": "30ozBKpNc6Sk"
      },
      "source": [
        "n = 10\n",
        "mu=12\n",
        "x_bar = 12.564\n",
        "se_mean = 0.296\n",
        "dof = 9"
      ],
      "execution_count": null,
      "outputs": []
    },
    {
      "cell_type": "markdown",
      "metadata": {
        "id": "1mciUeBodJhf"
      },
      "source": [
        "\n",
        "\n",
        "$SE = \\frac{S}{\\sqrt{n}}$"
      ]
    },
    {
      "cell_type": "code",
      "metadata": {
        "id": "OqY77vR4dHwi",
        "colab": {
          "base_uri": "https://localhost:8080/",
          "height": 34
        },
        "outputId": "8540258d-5bb3-416e-b097-3d27e4d5be8b"
      },
      "source": [
        "st_dev = se_mean*math.sqrt(n)\n",
        "st_dev"
      ],
      "execution_count": null,
      "outputs": [
        {
          "output_type": "execute_result",
          "data": {
            "text/plain": [
              "0.9360341874098403"
            ]
          },
          "metadata": {
            "tags": []
          },
          "execution_count": 58
        }
      ]
    },
    {
      "cell_type": "markdown",
      "metadata": {
        "id": "AhKmyU-CeyO7"
      },
      "source": [
        "$T_0 = \\frac{\\bar{X}-\\mu_0}{S/\\sqrt{n}}$"
      ]
    },
    {
      "cell_type": "code",
      "metadata": {
        "id": "v7uOG7yAevDW",
        "colab": {
          "base_uri": "https://localhost:8080/",
          "height": 51
        },
        "outputId": "6e0b5a18-a792-45bd-d451-a39c05feb0af"
      },
      "source": [
        "t0 = (x_bar-mu)/(se_mean)\n",
        "p_value = 2*(1- stats.t.cdf(t0,dof))\n",
        "\n",
        "print(t0, p_value)\n",
        "\n",
        "stats.t.ppf(0.005,16)"
      ],
      "execution_count": null,
      "outputs": [
        {
          "output_type": "stream",
          "text": [
            "1.9054054054054057 0.08911434358019843\n"
          ],
          "name": "stdout"
        },
        {
          "output_type": "execute_result",
          "data": {
            "text/plain": [
              "-2.9207816223499976"
            ]
          },
          "metadata": {
            "tags": []
          },
          "execution_count": 59
        }
      ]
    },
    {
      "cell_type": "markdown",
      "metadata": {
        "id": "26Ozlgoeby-4"
      },
      "source": [
        "Let's find the two-sided confidence interval on the mean."
      ]
    },
    {
      "cell_type": "code",
      "metadata": {
        "id": "w0ltIbqfohbo",
        "colab": {
          "base_uri": "https://localhost:8080/",
          "height": 34
        },
        "outputId": "d4a1830c-cdbf-453e-bf71-74f56b4ec6ae"
      },
      "source": [
        "t_negative = mu - (abs(stats.t.ppf(0.025,9))*SE)\n",
        "t_positive = mu + (abs(stats.t.ppf(0.025,9))*SE)\n",
        "print(t_negative, t_positive)\n",
        "#98.6-(abs(stats.t.ppf(0.025,24))*(0.4861/math.sqrt(25)))"
      ],
      "execution_count": null,
      "outputs": [
        {
          "output_type": "stream",
          "text": [
            "11.474322178932018 12.525677821067982\n"
          ],
          "name": "stdout"
        }
      ]
    },
    {
      "cell_type": "markdown",
      "metadata": {
        "id": "FmhLszeInBHR"
      },
      "source": [
        "## **Empirical Analysis**\n",
        "\n",
        "In many real-life problems, the relationship between variables is not deterministic and cannot be predicted perfectly.\n",
        "\n",
        "\n",
        "The collection of statistical tools to explore relationships between variables that are related to a nondeterministic manner is called **regression analysis**. The widely-used regression analysis techniques:\n",
        "1. Simple Linear Regression - *one predictor variable and a response variable*\n",
        "2. Multiple Linear Regression - *multiple predictor variables and a response variable*\n",
        "\n"
      ]
    },
    {
      "cell_type": "markdown",
      "metadata": {
        "id": "6lTyWvCkouJI"
      },
      "source": [
        "### **Simple Linear Regression**\n",
        "\n",
        "> A single regressor x (*predictor*) and a dependent y (*response*) variable.\n",
        "\n",
        "Suppose there is a true relationship between x and y on a straight line, where the observation of y at each level of x is a random variable.\n",
        "\n",
        "<p align = \"center\"> E(Y|x) = $\\beta_0 + \\beta_1x$ </p>\n",
        "\n",
        "> $\\beta_0$ and $\\beta_1$ are unknown regression coefficients.\n",
        "\n",
        "> $\\epsilon$ is a random variable with $\\mu = 0$ and unknown variance $\\sigma^2$. Random errors are uncorrelated random variables.\n",
        "\n",
        "Regression coefficients should result in a line that is a \"best fit\" to the data. Assume sample size is n, then each pair of observation x and y will satisfy:\n",
        "\n",
        "<p align = \"center\">  $y_i = \\hat{\\beta_0} + \\hat{\\beta_1}x_i + \\epsilon_i,          i = 1,2,..n $\n",
        "\n",
        "> **The fitted regression line:**\n",
        "\n",
        "<p align = \"center\">  $\\hat{y} = \\hat{\\beta_0} + \\hat{\\beta_1}x$\n",
        "\n",
        "Therefore, the **residual** : $\\epsilon_i = y_i - \\hat{y}_i$. The residual describes the error in the fit of the model for each observation *i*. "
      ]
    },
    {
      "cell_type": "markdown",
      "metadata": {
        "id": "hK2ARUZWNna1"
      },
      "source": [
        "### **Multiple Linear Regression**\n",
        "\n",
        "> Multiple regressor variables (*$x_1, x_2,...,x_k$*) and one response variable *y*.\n",
        "\n",
        "Similar to the simple linear regression equation, the multiple linear regression with *k* variables can be shown as: \n",
        "\n",
        "<p align = \"center\">  $Y = \\hat{\\beta_0} + \\hat{\\beta_1}x_1 + \\hat{\\beta_2}x_2 + ...+ \\hat{\\beta_k}x_k + \\epsilon$\n",
        "\n",
        "In this regression model, we may also combine regressors to assess their interaction effects in the model. For example:\n",
        "\n",
        "<p align = \"center\">  $Y = \\hat{\\beta_0} + \\hat{\\beta_1}x_1 + \\hat{\\beta_{1,2}}x_1x_2 + \\epsilon$\n",
        "\n",
        "Consider that we have n observation (*sample size*) and k variable. We should consider the multiple regression in a matrix format since there are multiple observations for multiple variables. Then each pair of observations will satisfy: \n",
        "\n",
        "<p align = \"center\"> $y_i = \\hat{\\beta_0} + \\hat{\\beta_1}x_{i,1} + \\hat{\\beta_2}x_{i,2} + ...+ \\hat{\\beta_k}x_{i,k} + \\epsilon_i, i = 1,2,...n$\n",
        "\n",
        "<p align = \"center\"> $y_i = \\beta_0 + \\sum_{j=1}^k \\beta_jx_{i,j} + \\epsilon_i, i = 1,2,...n$\n"
      ]
    },
    {
      "cell_type": "markdown",
      "metadata": {
        "id": "HiJd2qe89lXx"
      },
      "source": [
        "#### **Example 3**\n",
        "Let's focus on a simple dataset:"
      ]
    },
    {
      "cell_type": "code",
      "metadata": {
        "id": "51FVg5K5qO9Z",
        "cellView": "form"
      },
      "source": [
        "#@title\n",
        "#import pandas as pd\n",
        "#temp_data = {'Month':['Jan', 'Feb', 'Mar', 'Apr','May','June','July','Aug','Sep','Oct','Nov','Dec'],\n",
        "#        'Temp':[21, 24, 32, 47,50,59,68,74,62,50,41,30], 'Usage':[185.79,214.47,288.03,424.84,454.58,539.03,621.55,675.06,562.03,452.93,369.95,273.98]}\n",
        "#temp_datadf = pd.DataFrame(temp_data)\n",
        "#print(temp_datadf)"
      ],
      "execution_count": null,
      "outputs": []
    },
    {
      "cell_type": "markdown",
      "metadata": {
        "id": "y5Aozdxr-jbg"
      },
      "source": [
        "Assume that we have MPG performance and engine displacement for a sample of n = 20 cars. "
      ]
    },
    {
      "cell_type": "code",
      "metadata": {
        "id": "Muk3To7H9-kY",
        "cellView": "form",
        "colab": {
          "base_uri": "https://localhost:8080/",
          "height": 460
        },
        "outputId": "1622232f-64c6-4f5c-993d-5d7ad245c2b8"
      },
      "source": [
        "#@title\n",
        "import pandas as pd\n",
        "cars = {'Make - Model':['Acura - Legend','BMW - 735i','Buick - Regal', 'Chevrolet - Cavalier','Chevrolet - Celebrity', 'Chrysler - Conquest', 'Dodge - Aries', \n",
        "                 'Dodge - Dynasty', 'Ford - Escort', 'Ford - Mustang', 'Ford - Taurus', 'Ford - Tempo', 'Honda - Accord', \n",
        "                 'Mazda - RX-7', 'Mercedes - 260E', 'Mercury - Tracer', 'Nissan - Maxima', 'Oldsmobile - Cutlass', \n",
        "                 'Plymouth - Laser', 'Pontiac - Grand Prix'],\n",
        "        'MPG':[30,19,29,32,30,24,30,28,31,25,27,33,30,23,24,29,26,29,37,29],\n",
        "        'EngDis':[97,209,173,121,151,156,135,181,114,302,153,90,119,80,159,97,181,173,122,173]}\n",
        "cars_df = pd.DataFrame(cars)\n",
        "cars_df.style"
      ],
      "execution_count": null,
      "outputs": [
        {
          "output_type": "execute_result",
          "data": {
            "text/html": [
              "<style  type=\"text/css\" >\n",
              "</style><table id=\"T_37a8e1ca_e736_11ea_b545_0242ac1c0002\" ><thead>    <tr>        <th class=\"blank level0\" ></th>        <th class=\"col_heading level0 col0\" >Make - Model</th>        <th class=\"col_heading level0 col1\" >MPG</th>        <th class=\"col_heading level0 col2\" >EngDis</th>    </tr></thead><tbody>\n",
              "                <tr>\n",
              "                        <th id=\"T_37a8e1ca_e736_11ea_b545_0242ac1c0002level0_row0\" class=\"row_heading level0 row0\" >0</th>\n",
              "                        <td id=\"T_37a8e1ca_e736_11ea_b545_0242ac1c0002row0_col0\" class=\"data row0 col0\" >Acura - Legend</td>\n",
              "                        <td id=\"T_37a8e1ca_e736_11ea_b545_0242ac1c0002row0_col1\" class=\"data row0 col1\" >30</td>\n",
              "                        <td id=\"T_37a8e1ca_e736_11ea_b545_0242ac1c0002row0_col2\" class=\"data row0 col2\" >97</td>\n",
              "            </tr>\n",
              "            <tr>\n",
              "                        <th id=\"T_37a8e1ca_e736_11ea_b545_0242ac1c0002level0_row1\" class=\"row_heading level0 row1\" >1</th>\n",
              "                        <td id=\"T_37a8e1ca_e736_11ea_b545_0242ac1c0002row1_col0\" class=\"data row1 col0\" >BMW - 735i</td>\n",
              "                        <td id=\"T_37a8e1ca_e736_11ea_b545_0242ac1c0002row1_col1\" class=\"data row1 col1\" >19</td>\n",
              "                        <td id=\"T_37a8e1ca_e736_11ea_b545_0242ac1c0002row1_col2\" class=\"data row1 col2\" >209</td>\n",
              "            </tr>\n",
              "            <tr>\n",
              "                        <th id=\"T_37a8e1ca_e736_11ea_b545_0242ac1c0002level0_row2\" class=\"row_heading level0 row2\" >2</th>\n",
              "                        <td id=\"T_37a8e1ca_e736_11ea_b545_0242ac1c0002row2_col0\" class=\"data row2 col0\" >Buick - Regal</td>\n",
              "                        <td id=\"T_37a8e1ca_e736_11ea_b545_0242ac1c0002row2_col1\" class=\"data row2 col1\" >29</td>\n",
              "                        <td id=\"T_37a8e1ca_e736_11ea_b545_0242ac1c0002row2_col2\" class=\"data row2 col2\" >173</td>\n",
              "            </tr>\n",
              "            <tr>\n",
              "                        <th id=\"T_37a8e1ca_e736_11ea_b545_0242ac1c0002level0_row3\" class=\"row_heading level0 row3\" >3</th>\n",
              "                        <td id=\"T_37a8e1ca_e736_11ea_b545_0242ac1c0002row3_col0\" class=\"data row3 col0\" >Chevrolet - Cavalier</td>\n",
              "                        <td id=\"T_37a8e1ca_e736_11ea_b545_0242ac1c0002row3_col1\" class=\"data row3 col1\" >32</td>\n",
              "                        <td id=\"T_37a8e1ca_e736_11ea_b545_0242ac1c0002row3_col2\" class=\"data row3 col2\" >121</td>\n",
              "            </tr>\n",
              "            <tr>\n",
              "                        <th id=\"T_37a8e1ca_e736_11ea_b545_0242ac1c0002level0_row4\" class=\"row_heading level0 row4\" >4</th>\n",
              "                        <td id=\"T_37a8e1ca_e736_11ea_b545_0242ac1c0002row4_col0\" class=\"data row4 col0\" >Chevrolet - Celebrity</td>\n",
              "                        <td id=\"T_37a8e1ca_e736_11ea_b545_0242ac1c0002row4_col1\" class=\"data row4 col1\" >30</td>\n",
              "                        <td id=\"T_37a8e1ca_e736_11ea_b545_0242ac1c0002row4_col2\" class=\"data row4 col2\" >151</td>\n",
              "            </tr>\n",
              "            <tr>\n",
              "                        <th id=\"T_37a8e1ca_e736_11ea_b545_0242ac1c0002level0_row5\" class=\"row_heading level0 row5\" >5</th>\n",
              "                        <td id=\"T_37a8e1ca_e736_11ea_b545_0242ac1c0002row5_col0\" class=\"data row5 col0\" >Chrysler - Conquest</td>\n",
              "                        <td id=\"T_37a8e1ca_e736_11ea_b545_0242ac1c0002row5_col1\" class=\"data row5 col1\" >24</td>\n",
              "                        <td id=\"T_37a8e1ca_e736_11ea_b545_0242ac1c0002row5_col2\" class=\"data row5 col2\" >156</td>\n",
              "            </tr>\n",
              "            <tr>\n",
              "                        <th id=\"T_37a8e1ca_e736_11ea_b545_0242ac1c0002level0_row6\" class=\"row_heading level0 row6\" >6</th>\n",
              "                        <td id=\"T_37a8e1ca_e736_11ea_b545_0242ac1c0002row6_col0\" class=\"data row6 col0\" >Dodge - Aries</td>\n",
              "                        <td id=\"T_37a8e1ca_e736_11ea_b545_0242ac1c0002row6_col1\" class=\"data row6 col1\" >30</td>\n",
              "                        <td id=\"T_37a8e1ca_e736_11ea_b545_0242ac1c0002row6_col2\" class=\"data row6 col2\" >135</td>\n",
              "            </tr>\n",
              "            <tr>\n",
              "                        <th id=\"T_37a8e1ca_e736_11ea_b545_0242ac1c0002level0_row7\" class=\"row_heading level0 row7\" >7</th>\n",
              "                        <td id=\"T_37a8e1ca_e736_11ea_b545_0242ac1c0002row7_col0\" class=\"data row7 col0\" >Dodge - Dynasty</td>\n",
              "                        <td id=\"T_37a8e1ca_e736_11ea_b545_0242ac1c0002row7_col1\" class=\"data row7 col1\" >28</td>\n",
              "                        <td id=\"T_37a8e1ca_e736_11ea_b545_0242ac1c0002row7_col2\" class=\"data row7 col2\" >181</td>\n",
              "            </tr>\n",
              "            <tr>\n",
              "                        <th id=\"T_37a8e1ca_e736_11ea_b545_0242ac1c0002level0_row8\" class=\"row_heading level0 row8\" >8</th>\n",
              "                        <td id=\"T_37a8e1ca_e736_11ea_b545_0242ac1c0002row8_col0\" class=\"data row8 col0\" >Ford - Escort</td>\n",
              "                        <td id=\"T_37a8e1ca_e736_11ea_b545_0242ac1c0002row8_col1\" class=\"data row8 col1\" >31</td>\n",
              "                        <td id=\"T_37a8e1ca_e736_11ea_b545_0242ac1c0002row8_col2\" class=\"data row8 col2\" >114</td>\n",
              "            </tr>\n",
              "            <tr>\n",
              "                        <th id=\"T_37a8e1ca_e736_11ea_b545_0242ac1c0002level0_row9\" class=\"row_heading level0 row9\" >9</th>\n",
              "                        <td id=\"T_37a8e1ca_e736_11ea_b545_0242ac1c0002row9_col0\" class=\"data row9 col0\" >Ford - Mustang</td>\n",
              "                        <td id=\"T_37a8e1ca_e736_11ea_b545_0242ac1c0002row9_col1\" class=\"data row9 col1\" >25</td>\n",
              "                        <td id=\"T_37a8e1ca_e736_11ea_b545_0242ac1c0002row9_col2\" class=\"data row9 col2\" >302</td>\n",
              "            </tr>\n",
              "            <tr>\n",
              "                        <th id=\"T_37a8e1ca_e736_11ea_b545_0242ac1c0002level0_row10\" class=\"row_heading level0 row10\" >10</th>\n",
              "                        <td id=\"T_37a8e1ca_e736_11ea_b545_0242ac1c0002row10_col0\" class=\"data row10 col0\" >Ford - Taurus</td>\n",
              "                        <td id=\"T_37a8e1ca_e736_11ea_b545_0242ac1c0002row10_col1\" class=\"data row10 col1\" >27</td>\n",
              "                        <td id=\"T_37a8e1ca_e736_11ea_b545_0242ac1c0002row10_col2\" class=\"data row10 col2\" >153</td>\n",
              "            </tr>\n",
              "            <tr>\n",
              "                        <th id=\"T_37a8e1ca_e736_11ea_b545_0242ac1c0002level0_row11\" class=\"row_heading level0 row11\" >11</th>\n",
              "                        <td id=\"T_37a8e1ca_e736_11ea_b545_0242ac1c0002row11_col0\" class=\"data row11 col0\" >Ford - Tempo</td>\n",
              "                        <td id=\"T_37a8e1ca_e736_11ea_b545_0242ac1c0002row11_col1\" class=\"data row11 col1\" >33</td>\n",
              "                        <td id=\"T_37a8e1ca_e736_11ea_b545_0242ac1c0002row11_col2\" class=\"data row11 col2\" >90</td>\n",
              "            </tr>\n",
              "            <tr>\n",
              "                        <th id=\"T_37a8e1ca_e736_11ea_b545_0242ac1c0002level0_row12\" class=\"row_heading level0 row12\" >12</th>\n",
              "                        <td id=\"T_37a8e1ca_e736_11ea_b545_0242ac1c0002row12_col0\" class=\"data row12 col0\" >Honda - Accord</td>\n",
              "                        <td id=\"T_37a8e1ca_e736_11ea_b545_0242ac1c0002row12_col1\" class=\"data row12 col1\" >30</td>\n",
              "                        <td id=\"T_37a8e1ca_e736_11ea_b545_0242ac1c0002row12_col2\" class=\"data row12 col2\" >119</td>\n",
              "            </tr>\n",
              "            <tr>\n",
              "                        <th id=\"T_37a8e1ca_e736_11ea_b545_0242ac1c0002level0_row13\" class=\"row_heading level0 row13\" >13</th>\n",
              "                        <td id=\"T_37a8e1ca_e736_11ea_b545_0242ac1c0002row13_col0\" class=\"data row13 col0\" >Mazda - RX-7</td>\n",
              "                        <td id=\"T_37a8e1ca_e736_11ea_b545_0242ac1c0002row13_col1\" class=\"data row13 col1\" >23</td>\n",
              "                        <td id=\"T_37a8e1ca_e736_11ea_b545_0242ac1c0002row13_col2\" class=\"data row13 col2\" >80</td>\n",
              "            </tr>\n",
              "            <tr>\n",
              "                        <th id=\"T_37a8e1ca_e736_11ea_b545_0242ac1c0002level0_row14\" class=\"row_heading level0 row14\" >14</th>\n",
              "                        <td id=\"T_37a8e1ca_e736_11ea_b545_0242ac1c0002row14_col0\" class=\"data row14 col0\" >Mercedes - 260E</td>\n",
              "                        <td id=\"T_37a8e1ca_e736_11ea_b545_0242ac1c0002row14_col1\" class=\"data row14 col1\" >24</td>\n",
              "                        <td id=\"T_37a8e1ca_e736_11ea_b545_0242ac1c0002row14_col2\" class=\"data row14 col2\" >159</td>\n",
              "            </tr>\n",
              "            <tr>\n",
              "                        <th id=\"T_37a8e1ca_e736_11ea_b545_0242ac1c0002level0_row15\" class=\"row_heading level0 row15\" >15</th>\n",
              "                        <td id=\"T_37a8e1ca_e736_11ea_b545_0242ac1c0002row15_col0\" class=\"data row15 col0\" >Mercury - Tracer</td>\n",
              "                        <td id=\"T_37a8e1ca_e736_11ea_b545_0242ac1c0002row15_col1\" class=\"data row15 col1\" >29</td>\n",
              "                        <td id=\"T_37a8e1ca_e736_11ea_b545_0242ac1c0002row15_col2\" class=\"data row15 col2\" >97</td>\n",
              "            </tr>\n",
              "            <tr>\n",
              "                        <th id=\"T_37a8e1ca_e736_11ea_b545_0242ac1c0002level0_row16\" class=\"row_heading level0 row16\" >16</th>\n",
              "                        <td id=\"T_37a8e1ca_e736_11ea_b545_0242ac1c0002row16_col0\" class=\"data row16 col0\" >Nissan - Maxima</td>\n",
              "                        <td id=\"T_37a8e1ca_e736_11ea_b545_0242ac1c0002row16_col1\" class=\"data row16 col1\" >26</td>\n",
              "                        <td id=\"T_37a8e1ca_e736_11ea_b545_0242ac1c0002row16_col2\" class=\"data row16 col2\" >181</td>\n",
              "            </tr>\n",
              "            <tr>\n",
              "                        <th id=\"T_37a8e1ca_e736_11ea_b545_0242ac1c0002level0_row17\" class=\"row_heading level0 row17\" >17</th>\n",
              "                        <td id=\"T_37a8e1ca_e736_11ea_b545_0242ac1c0002row17_col0\" class=\"data row17 col0\" >Oldsmobile - Cutlass</td>\n",
              "                        <td id=\"T_37a8e1ca_e736_11ea_b545_0242ac1c0002row17_col1\" class=\"data row17 col1\" >29</td>\n",
              "                        <td id=\"T_37a8e1ca_e736_11ea_b545_0242ac1c0002row17_col2\" class=\"data row17 col2\" >173</td>\n",
              "            </tr>\n",
              "            <tr>\n",
              "                        <th id=\"T_37a8e1ca_e736_11ea_b545_0242ac1c0002level0_row18\" class=\"row_heading level0 row18\" >18</th>\n",
              "                        <td id=\"T_37a8e1ca_e736_11ea_b545_0242ac1c0002row18_col0\" class=\"data row18 col0\" >Plymouth - Laser</td>\n",
              "                        <td id=\"T_37a8e1ca_e736_11ea_b545_0242ac1c0002row18_col1\" class=\"data row18 col1\" >37</td>\n",
              "                        <td id=\"T_37a8e1ca_e736_11ea_b545_0242ac1c0002row18_col2\" class=\"data row18 col2\" >122</td>\n",
              "            </tr>\n",
              "            <tr>\n",
              "                        <th id=\"T_37a8e1ca_e736_11ea_b545_0242ac1c0002level0_row19\" class=\"row_heading level0 row19\" >19</th>\n",
              "                        <td id=\"T_37a8e1ca_e736_11ea_b545_0242ac1c0002row19_col0\" class=\"data row19 col0\" >Pontiac - Grand Prix</td>\n",
              "                        <td id=\"T_37a8e1ca_e736_11ea_b545_0242ac1c0002row19_col1\" class=\"data row19 col1\" >29</td>\n",
              "                        <td id=\"T_37a8e1ca_e736_11ea_b545_0242ac1c0002row19_col2\" class=\"data row19 col2\" >173</td>\n",
              "            </tr>\n",
              "    </tbody></table>"
            ],
            "text/plain": [
              "<pandas.io.formats.style.Styler at 0x7fcfbc0a9908>"
            ]
          },
          "metadata": {
            "tags": []
          },
          "execution_count": 12
        }
      ]
    },
    {
      "cell_type": "code",
      "metadata": {
        "id": "xzpELddYxD9e",
        "colab": {
          "base_uri": "https://localhost:8080/",
          "height": 669
        },
        "outputId": "ac3d2a13-c9f5-495a-b8b7-9e2226ee69ed"
      },
      "source": [
        "cars_df"
      ],
      "execution_count": null,
      "outputs": [
        {
          "output_type": "execute_result",
          "data": {
            "text/html": [
              "<div>\n",
              "<style scoped>\n",
              "    .dataframe tbody tr th:only-of-type {\n",
              "        vertical-align: middle;\n",
              "    }\n",
              "\n",
              "    .dataframe tbody tr th {\n",
              "        vertical-align: top;\n",
              "    }\n",
              "\n",
              "    .dataframe thead th {\n",
              "        text-align: right;\n",
              "    }\n",
              "</style>\n",
              "<table border=\"1\" class=\"dataframe\">\n",
              "  <thead>\n",
              "    <tr style=\"text-align: right;\">\n",
              "      <th></th>\n",
              "      <th>Make - Model</th>\n",
              "      <th>MPG</th>\n",
              "      <th>EngDis</th>\n",
              "    </tr>\n",
              "  </thead>\n",
              "  <tbody>\n",
              "    <tr>\n",
              "      <th>0</th>\n",
              "      <td>Acura - Legend</td>\n",
              "      <td>30</td>\n",
              "      <td>97</td>\n",
              "    </tr>\n",
              "    <tr>\n",
              "      <th>1</th>\n",
              "      <td>BMW - 735i</td>\n",
              "      <td>19</td>\n",
              "      <td>209</td>\n",
              "    </tr>\n",
              "    <tr>\n",
              "      <th>2</th>\n",
              "      <td>Buick - Regal</td>\n",
              "      <td>29</td>\n",
              "      <td>173</td>\n",
              "    </tr>\n",
              "    <tr>\n",
              "      <th>3</th>\n",
              "      <td>Chevrolet - Cavalier</td>\n",
              "      <td>32</td>\n",
              "      <td>121</td>\n",
              "    </tr>\n",
              "    <tr>\n",
              "      <th>4</th>\n",
              "      <td>Chevrolet - Celebrity</td>\n",
              "      <td>30</td>\n",
              "      <td>151</td>\n",
              "    </tr>\n",
              "    <tr>\n",
              "      <th>5</th>\n",
              "      <td>Chrysler - Conquest</td>\n",
              "      <td>24</td>\n",
              "      <td>156</td>\n",
              "    </tr>\n",
              "    <tr>\n",
              "      <th>6</th>\n",
              "      <td>Dodge - Aries</td>\n",
              "      <td>30</td>\n",
              "      <td>135</td>\n",
              "    </tr>\n",
              "    <tr>\n",
              "      <th>7</th>\n",
              "      <td>Dodge - Dynasty</td>\n",
              "      <td>28</td>\n",
              "      <td>181</td>\n",
              "    </tr>\n",
              "    <tr>\n",
              "      <th>8</th>\n",
              "      <td>Ford - Escort</td>\n",
              "      <td>31</td>\n",
              "      <td>114</td>\n",
              "    </tr>\n",
              "    <tr>\n",
              "      <th>9</th>\n",
              "      <td>Ford - Mustang</td>\n",
              "      <td>25</td>\n",
              "      <td>302</td>\n",
              "    </tr>\n",
              "    <tr>\n",
              "      <th>10</th>\n",
              "      <td>Ford - Taurus</td>\n",
              "      <td>27</td>\n",
              "      <td>153</td>\n",
              "    </tr>\n",
              "    <tr>\n",
              "      <th>11</th>\n",
              "      <td>Ford - Tempo</td>\n",
              "      <td>33</td>\n",
              "      <td>90</td>\n",
              "    </tr>\n",
              "    <tr>\n",
              "      <th>12</th>\n",
              "      <td>Honda - Accord</td>\n",
              "      <td>30</td>\n",
              "      <td>119</td>\n",
              "    </tr>\n",
              "    <tr>\n",
              "      <th>13</th>\n",
              "      <td>Mazda - RX-7</td>\n",
              "      <td>23</td>\n",
              "      <td>80</td>\n",
              "    </tr>\n",
              "    <tr>\n",
              "      <th>14</th>\n",
              "      <td>Mercedes - 260E</td>\n",
              "      <td>24</td>\n",
              "      <td>159</td>\n",
              "    </tr>\n",
              "    <tr>\n",
              "      <th>15</th>\n",
              "      <td>Mercury - Tracer</td>\n",
              "      <td>29</td>\n",
              "      <td>97</td>\n",
              "    </tr>\n",
              "    <tr>\n",
              "      <th>16</th>\n",
              "      <td>Nissan - Maxima</td>\n",
              "      <td>26</td>\n",
              "      <td>181</td>\n",
              "    </tr>\n",
              "    <tr>\n",
              "      <th>17</th>\n",
              "      <td>Oldsmobile - Cutlass</td>\n",
              "      <td>29</td>\n",
              "      <td>173</td>\n",
              "    </tr>\n",
              "    <tr>\n",
              "      <th>18</th>\n",
              "      <td>Plymouth - Laser</td>\n",
              "      <td>37</td>\n",
              "      <td>122</td>\n",
              "    </tr>\n",
              "    <tr>\n",
              "      <th>19</th>\n",
              "      <td>Pontiac - Grand Prix</td>\n",
              "      <td>29</td>\n",
              "      <td>173</td>\n",
              "    </tr>\n",
              "  </tbody>\n",
              "</table>\n",
              "</div>"
            ],
            "text/plain": [
              "             Make - Model  MPG  EngDis\n",
              "0          Acura - Legend   30      97\n",
              "1              BMW - 735i   19     209\n",
              "2           Buick - Regal   29     173\n",
              "3    Chevrolet - Cavalier   32     121\n",
              "4   Chevrolet - Celebrity   30     151\n",
              "5     Chrysler - Conquest   24     156\n",
              "6           Dodge - Aries   30     135\n",
              "7         Dodge - Dynasty   28     181\n",
              "8           Ford - Escort   31     114\n",
              "9          Ford - Mustang   25     302\n",
              "10          Ford - Taurus   27     153\n",
              "11           Ford - Tempo   33      90\n",
              "12         Honda - Accord   30     119\n",
              "13           Mazda - RX-7   23      80\n",
              "14        Mercedes - 260E   24     159\n",
              "15       Mercury - Tracer   29      97\n",
              "16        Nissan - Maxima   26     181\n",
              "17   Oldsmobile - Cutlass   29     173\n",
              "18       Plymouth - Laser   37     122\n",
              "19   Pontiac - Grand Prix   29     173"
            ]
          },
          "metadata": {
            "tags": []
          },
          "execution_count": 62
        }
      ]
    },
    {
      "cell_type": "markdown",
      "metadata": {
        "id": "cUjvPEpjDwLb"
      },
      "source": [
        "##### **What are the regression coefficients?**"
      ]
    },
    {
      "cell_type": "code",
      "metadata": {
        "id": "_S1UdoQ4F7WB",
        "cellView": "form"
      },
      "source": [
        "#@title\n",
        "model_ex3 = sm.OLS(cars_df.MPG,cars_df.EngDis)\n",
        "results_ex3 = model_ex3.fit()\n",
        "results_ex3.summary()"
      ],
      "execution_count": null,
      "outputs": []
    },
    {
      "cell_type": "code",
      "metadata": {
        "id": "-kYvpDCCL9FR",
        "colab": {
          "base_uri": "https://localhost:8080/",
          "height": 442
        },
        "outputId": "530af1c1-aec3-4a36-810c-a52862e7fa5f"
      },
      "source": [
        "import numpy as np\n",
        "import statsmodels.api as sm\n",
        "\n",
        "x = cars_df.EngDis\n",
        "y = cars_df.MPG\n",
        "X = sm.add_constant(x)\n",
        "slr = sm.OLS(y, X).fit()\n",
        "print(slr.summary())"
      ],
      "execution_count": null,
      "outputs": [
        {
          "output_type": "stream",
          "text": [
            "                            OLS Regression Results                            \n",
            "==============================================================================\n",
            "Dep. Variable:                    MPG   R-squared:                       0.201\n",
            "Model:                            OLS   Adj. R-squared:                  0.157\n",
            "Method:                 Least Squares   F-statistic:                     4.532\n",
            "Date:                Wed, 26 Aug 2020   Prob (F-statistic):             0.0473\n",
            "Time:                        05:28:13   Log-Likelihood:                -53.272\n",
            "No. Observations:                  20   AIC:                             110.5\n",
            "Df Residuals:                      18   BIC:                             112.5\n",
            "Df Model:                           1                                         \n",
            "Covariance Type:            nonrobust                                         \n",
            "==============================================================================\n",
            "                 coef    std err          t      P>|t|      [0.025      0.975]\n",
            "------------------------------------------------------------------------------\n",
            "const         33.5348      2.614     12.829      0.000      28.043      39.027\n",
            "EngDis        -0.0354      0.017     -2.129      0.047      -0.070      -0.000\n",
            "==============================================================================\n",
            "Omnibus:                        2.614   Durbin-Watson:                   1.642\n",
            "Prob(Omnibus):                  0.271   Jarque-Bera (JB):                1.072\n",
            "Skew:                          -0.482   Prob(JB):                        0.585\n",
            "Kurtosis:                       3.596   Cond. No.                         502.\n",
            "==============================================================================\n",
            "\n",
            "Warnings:\n",
            "[1] Standard Errors assume that the covariance matrix of the errors is correctly specified.\n"
          ],
          "name": "stdout"
        }
      ]
    },
    {
      "cell_type": "code",
      "metadata": {
        "id": "-OD9-Yo_xfld",
        "colab": {
          "base_uri": "https://localhost:8080/",
          "height": 374
        },
        "outputId": "ebbc5c94-4fd3-4101-ff77-c12103b01dc1"
      },
      "source": [
        "predictions = slr.predict(X)\n",
        "print(predictions)"
      ],
      "execution_count": null,
      "outputs": [
        {
          "output_type": "stream",
          "text": [
            "0    30.10\n",
            "1    26.14\n",
            "2    27.41\n",
            "3    29.25\n",
            "4    28.19\n",
            "5    28.01\n",
            "6    28.76\n",
            "7    27.13\n",
            "8    29.50\n",
            "9    22.84\n",
            "10   28.12\n",
            "11   30.35\n",
            "12   29.32\n",
            "13   30.70\n",
            "14   27.91\n",
            "15   30.10\n",
            "16   27.13\n",
            "17   27.41\n",
            "18   29.22\n",
            "19   27.41\n",
            "dtype: float64\n"
          ],
          "name": "stdout"
        }
      ]
    },
    {
      "cell_type": "code",
      "metadata": {
        "id": "KjaEftq--Ysk",
        "cellView": "form"
      },
      "source": [
        "#@title\n",
        "ax1 = cars_df.plot.scatter(x='EngDis', y='MPG')"
      ],
      "execution_count": null,
      "outputs": []
    },
    {
      "cell_type": "markdown",
      "metadata": {
        "id": "HumFcrs9yJpC"
      },
      "source": [
        "### **Properties of Least Square Estimators:**\n",
        "\n",
        "Regression coefficients that we found in the regression model are the least square estimates of the intercept and slope. They can also be calculated manually. These equations are called as **least squares normal equations**.\n",
        "\n",
        "<p align = \"center\"> $\\hat{\\beta_0} = \\bar{y} - \\hat{b}_1\\bar{x}$\n",
        "\n",
        "<p align = \"center\"> $\\hat{\\beta_1} = \\frac{S_{xx}}{S_{xy}}$ \n",
        "\n",
        "> where, \n",
        "\n",
        "> $S_{xx} = \\sum_{i=1}^n x_i^2 - \\frac{(\\sum_{i=1}^n x_i)^2}{n}$\n",
        "\n",
        "> $S_{xy} = \\sum_{i=1}^n y_ix_i - \\frac{(\\sum_{i=1}^n y_i)(\\sum_{i=1}^n x_i)}{n}$\n",
        "\n",
        "> and \n",
        "\n",
        "> $\\bar{y} = (1/n)\\sum_{i=1}^n y_i$ and $\\bar{x} = (1/n)\\sum_{i=1}^n x_i$\n",
        "\n",
        "Therefore, the fitted regression line:\n",
        "\n",
        "> $\\hat{y} = \\hat{\\beta}_0 + \\hat{\\beta}_1x$, \n",
        "\n",
        "where each pair of observation satisfies:\n",
        "\n",
        "> $y_i = \\hat{\\beta}_0 + \\hat{\\beta}_1x_i + \\epsilon_i$,\n",
        "\n",
        "and the residual equals:\n",
        "\n",
        "> $\\epsilon_i = y_i - \\hat{y}_i$\n",
        "\n",
        "\\\n",
        "\n",
        "Just as in simple linear regression, properties of least square estimators follow similar estimations but in a matrix form."
      ]
    },
    {
      "cell_type": "markdown",
      "metadata": {
        "id": "ZOPHE3BM48-z"
      },
      "source": [
        "**Let's calculate regression coefficients manually:**"
      ]
    },
    {
      "cell_type": "code",
      "metadata": {
        "id": "lB0opEQ0SwTN",
        "colab": {
          "base_uri": "https://localhost:8080/",
          "height": 34
        },
        "outputId": "bf696a65-aa1e-4613-932d-cb6347d42552"
      },
      "source": [
        "import scipy\n",
        "data_size = 20\n",
        "sumx=0\n",
        "sumy=0\n",
        "sumxy=0\n",
        "sumsqx=0\n",
        "\n",
        "for i in range(len(cars_df)):\n",
        "   sumx = cars_df['EngDis'][i]+sumx\n",
        "\n",
        "for i in range(len(cars_df)):\n",
        "   sumsqx = (cars_df['EngDis'][i]**2)+sumsqx\n",
        "\n",
        "for i in range(len(cars_df)):\n",
        "   sumy = cars_df['MPG'][i]+sumy\n",
        "\n",
        "for i in range(len(cars_df)):\n",
        "   sumxy = cars_df['EngDis'][i]*cars_df['MPG'][i]+sumxy\n",
        "\n",
        "sxx = sumsqx-((sumx**2)/data_size)\n",
        "\n",
        "sxy = sumxy - ((sumx*sumy)/data_size)\n",
        "\n",
        "b1= sxy/sxx\n",
        "\n",
        "b0 = (sumy/data_size) - (b1*(sumx/data_size))\n",
        "\n",
        "print(b0, b1, b0+abs(b1))"
      ],
      "execution_count": null,
      "outputs": [
        {
          "output_type": "stream",
          "text": [
            "33.53478390129696 -0.03539707904418595 33.57018098034115\n"
          ],
          "name": "stdout"
        }
      ]
    },
    {
      "cell_type": "markdown",
      "metadata": {
        "id": "Tzo-Avj_Qr0I"
      },
      "source": [
        "> There is one predictor coefficient only since it is simple linear regression.\n",
        "\n",
        "> $\\hat{\\beta_0}$ = 33.5358 \n",
        "\n",
        "> $\\hat{\\beta_1}$ = -0.0354\n",
        "\n",
        "**Practical Interpretation:** Using a simple linear regression model between mpg and engine displacements, we would predict the MPG of $\\hat{y}$ = %33.57 when the engine displacement x = 1.00%. \n",
        "\n",
        "This is not a strong evidence that these two parameters have a strong relationship. In addition, there is always an error on these estimates since they are predictions."
      ]
    },
    {
      "cell_type": "code",
      "metadata": {
        "id": "NbB6vhsdI31z",
        "cellView": "form",
        "colab": {
          "base_uri": "https://localhost:8080/",
          "height": 279
        },
        "outputId": "b14c1d21-3521-4bc8-cb7f-cd3654003e60"
      },
      "source": [
        "#@title\n",
        "ax = sns.regplot(x=\"EngDis\", y=\"MPG\", data=cars_df)"
      ],
      "execution_count": null,
      "outputs": [
        {
          "output_type": "display_data",
          "data": {
            "image/png": "[encoded data removed]",
            "text/plain": [
              "<Figure size 432x288 with 1 Axes>"
            ]
          },
          "metadata": {
            "tags": [],
            "needs_background": "light"
          }
        }
      ]
    },
    {
      "cell_type": "markdown",
      "metadata": {
        "id": "GdOSbNMJX3v1"
      },
      "source": [
        "### **Use of t-tests**\n",
        "\n",
        "In the regression analysis, independent (*predictor*) variables x are fixed. Therefore, the coefficient estimates $\\hat{\\beta}_0$ and $\\hat{\\beta}_1$ depend on the observed response (*response*) variables.\n",
        "\n",
        "For example, $\\hat{\\beta}_1$ is the linear combination of observations Y. Therefore we can show it as:\n",
        "\n",
        "<p align = \"center\"> E[$\\hat{\\beta}_1$] = $\\beta_1$ </p>\n",
        "\n",
        "In other words, $\\hat{\\beta}_1$ is the **unbiased estimator** of the **true slope of the population** $\\beta_1$.\n",
        "\n",
        "Similarly, $\\hat{\\beta}_0$ is the unbiased estimator of the **true intercept of the population** $\\beta_0$.\n",
        "\n",
        "The estimate of variance $\\hat{\\sigma}^2$ can be used to estimate the variance and slope $\\beta_1$ and intercept $\\beta_0$. We call the squared root of the resulting variance estimators as the **estimated standard errors** of the slope $se(\\hat{\\beta}_1)$ and intercept $se(\\hat{\\beta}_0)$.\n",
        "\n",
        "<p align = \"center\"> $se(\\hat{\\beta}_0) = \\sqrt{\\hat{\\sigma}^2[\\frac{1}{n}+\\frac{\\bar{x}^2}{S_{xx}}]}$\n",
        "\n",
        "<p align = \"center\"> $se(\\hat{\\beta}_1) = \\sqrt{\\frac{\\hat{\\sigma}^2}{S_{xx}}}$"
      ]
    },
    {
      "cell_type": "markdown",
      "metadata": {
        "id": "7tKZAOu8C4Yl"
      },
      "source": [
        "Suppose we want to test the hypotheses that the slope equals a constant: \n",
        "\n",
        "<p align = \"center\"> $H_0$ : $\\beta_1$ = $\\beta_{1,0}$\n",
        "\n",
        "<p align = \"center\"> $H_1$ : $\\beta_1$ $\\ne$ $\\beta_{1,0}$ </p>\n",
        "\n",
        "Similarly, let's define the hypotheses that the intercept equals a constant:\n",
        "\n",
        "<p align = \"center\"> $H_0$ : $\\beta_0$ = $\\beta_{0,0}$\n",
        "\n",
        "<p align = \"center\"> $H_1$ : $\\beta_0$ $\\ne$ $\\beta_{0,0}$ </p>\n",
        "\n",
        "Recall the hypothesis testing procedures:\n",
        "\n",
        "> Test statistic: \n",
        "\n",
        "<p align = \"center\"> $T_0 = \\frac{\\hat{\\beta}_1-\\beta_{1,0}}{se(\\hat{\\beta}_1)}$\n",
        "\n",
        "<p align = \"center\"> $T_0 = \\frac{\\hat{\\beta}_0-\\beta_{0,0}}{se(\\hat{\\beta}_0)}$\n",
        "\n",
        "> We will accept the null hypothesis if:\n",
        "\n",
        "> $t_{-\\alpha/2, n-p} < |t_0| < t_{\\alpha/2, n-p}$"
      ]
    },
    {
      "cell_type": "markdown",
      "metadata": {
        "id": "3IhHL91VJzmM"
      },
      "source": [
        "#### **Significance of Regression**\n",
        "\n",
        "Let's focus on a special case of the hypotheses:\n",
        "\n",
        "<p align = \"center\"> $H_0$ : $\\beta_1$ = 0\n",
        "\n",
        "<p align = \"center\"> $H_1$ : $\\beta_1$ $\\ne$ 0 </p>\n",
        "\n",
        "In such case, accepting the null hypothesis means that there is no linear relationship between x and y. \n",
        "> This result may indicate either that x is of little value explaining the variation in Y or the true relationship between x and y is not linear.\n",
        "\n",
        "Rejecting the null hypothesis means that there is a linear relationship between x and y.\n",
        "> This result may indicate that x is of value in explaining the variability in y and the straight-line model is adequate.\n",
        "\n",
        "Similarly, the significance of regression test determines whether a linear relationship exists between the response variable and a subset of the regressor variables, shown as:\n",
        "\n",
        "<p align = \"center\"> $H_0$ : $\\beta_1 = \\beta_2 = ... = \\beta_k$ = 0\n",
        "\n",
        "<p align = \"center\"> $H_1$ : $\\beta_j$ $\\ne$ 0, for at least one j </p>\n",
        "\n",
        "Rejecting the null hypothesis means that at least one of the regressors have a significant contribution to the model."
      ]
    },
    {
      "cell_type": "markdown",
      "metadata": {
        "id": "wLu97mmkLgX0"
      },
      "source": [
        "#### Let's recall **Example 3** and test the significance of regression for simple linear regression:\n",
        "\n",
        "$H_0$ : $\\beta_1$ = 0\n",
        "\n",
        "$H_1$ : $\\beta_1$ $\\ne$ 0"
      ]
    },
    {
      "cell_type": "code",
      "metadata": {
        "id": "6J8-YwkULoe0",
        "colab": {
          "base_uri": "https://localhost:8080/",
          "height": 669
        },
        "outputId": "e06fc339-5149-4699-f93d-186c61a4bbeb"
      },
      "source": [
        "cars_df"
      ],
      "execution_count": null,
      "outputs": [
        {
          "output_type": "execute_result",
          "data": {
            "text/html": [
              "<div>\n",
              "<style scoped>\n",
              "    .dataframe tbody tr th:only-of-type {\n",
              "        vertical-align: middle;\n",
              "    }\n",
              "\n",
              "    .dataframe tbody tr th {\n",
              "        vertical-align: top;\n",
              "    }\n",
              "\n",
              "    .dataframe thead th {\n",
              "        text-align: right;\n",
              "    }\n",
              "</style>\n",
              "<table border=\"1\" class=\"dataframe\">\n",
              "  <thead>\n",
              "    <tr style=\"text-align: right;\">\n",
              "      <th></th>\n",
              "      <th>Make - Model</th>\n",
              "      <th>MPG</th>\n",
              "      <th>EngDis</th>\n",
              "    </tr>\n",
              "  </thead>\n",
              "  <tbody>\n",
              "    <tr>\n",
              "      <th>0</th>\n",
              "      <td>Acura - Legend</td>\n",
              "      <td>30</td>\n",
              "      <td>97</td>\n",
              "    </tr>\n",
              "    <tr>\n",
              "      <th>1</th>\n",
              "      <td>BMW - 735i</td>\n",
              "      <td>19</td>\n",
              "      <td>209</td>\n",
              "    </tr>\n",
              "    <tr>\n",
              "      <th>2</th>\n",
              "      <td>Buick - Regal</td>\n",
              "      <td>29</td>\n",
              "      <td>173</td>\n",
              "    </tr>\n",
              "    <tr>\n",
              "      <th>3</th>\n",
              "      <td>Chevrolet - Cavalier</td>\n",
              "      <td>32</td>\n",
              "      <td>121</td>\n",
              "    </tr>\n",
              "    <tr>\n",
              "      <th>4</th>\n",
              "      <td>Chevrolet - Celebrity</td>\n",
              "      <td>30</td>\n",
              "      <td>151</td>\n",
              "    </tr>\n",
              "    <tr>\n",
              "      <th>5</th>\n",
              "      <td>Chrysler - Conquest</td>\n",
              "      <td>24</td>\n",
              "      <td>156</td>\n",
              "    </tr>\n",
              "    <tr>\n",
              "      <th>6</th>\n",
              "      <td>Dodge - Aries</td>\n",
              "      <td>30</td>\n",
              "      <td>135</td>\n",
              "    </tr>\n",
              "    <tr>\n",
              "      <th>7</th>\n",
              "      <td>Dodge - Dynasty</td>\n",
              "      <td>28</td>\n",
              "      <td>181</td>\n",
              "    </tr>\n",
              "    <tr>\n",
              "      <th>8</th>\n",
              "      <td>Ford - Escort</td>\n",
              "      <td>31</td>\n",
              "      <td>114</td>\n",
              "    </tr>\n",
              "    <tr>\n",
              "      <th>9</th>\n",
              "      <td>Ford - Mustang</td>\n",
              "      <td>25</td>\n",
              "      <td>302</td>\n",
              "    </tr>\n",
              "    <tr>\n",
              "      <th>10</th>\n",
              "      <td>Ford - Taurus</td>\n",
              "      <td>27</td>\n",
              "      <td>153</td>\n",
              "    </tr>\n",
              "    <tr>\n",
              "      <th>11</th>\n",
              "      <td>Ford - Tempo</td>\n",
              "      <td>33</td>\n",
              "      <td>90</td>\n",
              "    </tr>\n",
              "    <tr>\n",
              "      <th>12</th>\n",
              "      <td>Honda - Accord</td>\n",
              "      <td>30</td>\n",
              "      <td>119</td>\n",
              "    </tr>\n",
              "    <tr>\n",
              "      <th>13</th>\n",
              "      <td>Mazda - RX-7</td>\n",
              "      <td>23</td>\n",
              "      <td>80</td>\n",
              "    </tr>\n",
              "    <tr>\n",
              "      <th>14</th>\n",
              "      <td>Mercedes - 260E</td>\n",
              "      <td>24</td>\n",
              "      <td>159</td>\n",
              "    </tr>\n",
              "    <tr>\n",
              "      <th>15</th>\n",
              "      <td>Mercury - Tracer</td>\n",
              "      <td>29</td>\n",
              "      <td>97</td>\n",
              "    </tr>\n",
              "    <tr>\n",
              "      <th>16</th>\n",
              "      <td>Nissan - Maxima</td>\n",
              "      <td>26</td>\n",
              "      <td>181</td>\n",
              "    </tr>\n",
              "    <tr>\n",
              "      <th>17</th>\n",
              "      <td>Oldsmobile - Cutlass</td>\n",
              "      <td>29</td>\n",
              "      <td>173</td>\n",
              "    </tr>\n",
              "    <tr>\n",
              "      <th>18</th>\n",
              "      <td>Plymouth - Laser</td>\n",
              "      <td>37</td>\n",
              "      <td>122</td>\n",
              "    </tr>\n",
              "    <tr>\n",
              "      <th>19</th>\n",
              "      <td>Pontiac - Grand Prix</td>\n",
              "      <td>29</td>\n",
              "      <td>173</td>\n",
              "    </tr>\n",
              "  </tbody>\n",
              "</table>\n",
              "</div>"
            ],
            "text/plain": [
              "             Make - Model  MPG  EngDis\n",
              "0          Acura - Legend   30      97\n",
              "1              BMW - 735i   19     209\n",
              "2           Buick - Regal   29     173\n",
              "3    Chevrolet - Cavalier   32     121\n",
              "4   Chevrolet - Celebrity   30     151\n",
              "5     Chrysler - Conquest   24     156\n",
              "6           Dodge - Aries   30     135\n",
              "7         Dodge - Dynasty   28     181\n",
              "8           Ford - Escort   31     114\n",
              "9          Ford - Mustang   25     302\n",
              "10          Ford - Taurus   27     153\n",
              "11           Ford - Tempo   33      90\n",
              "12         Honda - Accord   30     119\n",
              "13           Mazda - RX-7   23      80\n",
              "14        Mercedes - 260E   24     159\n",
              "15       Mercury - Tracer   29      97\n",
              "16        Nissan - Maxima   26     181\n",
              "17   Oldsmobile - Cutlass   29     173\n",
              "18       Plymouth - Laser   37     122\n",
              "19   Pontiac - Grand Prix   29     173"
            ]
          },
          "metadata": {
            "tags": []
          },
          "execution_count": 70
        }
      ]
    },
    {
      "cell_type": "code",
      "metadata": {
        "id": "D4v-PtcVRKBp",
        "colab": {
          "base_uri": "https://localhost:8080/",
          "height": 317
        },
        "outputId": "98baa114-279f-482e-bd56-83c694e80aae"
      },
      "source": [
        "slr.summary2()"
      ],
      "execution_count": null,
      "outputs": [
        {
          "output_type": "execute_result",
          "data": {
            "text/html": [
              "<table class=\"simpletable\">\n",
              "<tr>\n",
              "        <td>Model:</td>               <td>OLS</td>         <td>Adj. R-squared:</td>     <td>0.157</td> \n",
              "</tr>\n",
              "<tr>\n",
              "  <td>Dependent Variable:</td>        <td>MPG</td>              <td>AIC:</td>         <td>110.5440</td>\n",
              "</tr>\n",
              "<tr>\n",
              "         <td>Date:</td>        <td>2020-08-19 01:13</td>        <td>BIC:</td>         <td>112.5354</td>\n",
              "</tr>\n",
              "<tr>\n",
              "   <td>No. Observations:</td>         <td>20</td>          <td>Log-Likelihood:</td>    <td>-53.272</td>\n",
              "</tr>\n",
              "<tr>\n",
              "       <td>Df Model:</td>              <td>1</td>           <td>F-statistic:</td>       <td>4.532</td> \n",
              "</tr>\n",
              "<tr>\n",
              "     <td>Df Residuals:</td>           <td>18</td>        <td>Prob (F-statistic):</td>  <td>0.0473</td> \n",
              "</tr>\n",
              "<tr>\n",
              "      <td>R-squared:</td>            <td>0.201</td>            <td>Scale:</td>         <td>13.392</td> \n",
              "</tr>\n",
              "</table>\n",
              "<table class=\"simpletable\">\n",
              "<tr>\n",
              "     <td></td>     <th>Coef.</th>  <th>Std.Err.</th>    <th>t</th>     <th>P>|t|</th> <th>[0.025</th>  <th>0.975]</th> \n",
              "</tr>\n",
              "<tr>\n",
              "  <th>const</th>  <td>33.5348</td>  <td>2.6140</td>  <td>12.8291</td> <td>0.0000</td> <td>28.0431</td> <td>39.0265</td>\n",
              "</tr>\n",
              "<tr>\n",
              "  <th>EngDis</th> <td>-0.0354</td>  <td>0.0166</td>  <td>-2.1287</td> <td>0.0473</td> <td>-0.0703</td> <td>-0.0005</td>\n",
              "</tr>\n",
              "</table>\n",
              "<table class=\"simpletable\">\n",
              "<tr>\n",
              "     <td>Omnibus:</td>     <td>2.614</td>  <td>Durbin-Watson:</td>   <td>1.642</td>\n",
              "</tr>\n",
              "<tr>\n",
              "  <td>Prob(Omnibus):</td>  <td>0.271</td> <td>Jarque-Bera (JB):</td> <td>1.072</td>\n",
              "</tr>\n",
              "<tr>\n",
              "       <td>Skew:</td>     <td>-0.482</td>     <td>Prob(JB):</td>     <td>0.585</td>\n",
              "</tr>\n",
              "<tr>\n",
              "     <td>Kurtosis:</td>    <td>3.596</td>  <td>Condition No.:</td>    <td>502</td> \n",
              "</tr>\n",
              "</table>"
            ],
            "text/plain": [
              "<class 'statsmodels.iolib.summary2.Summary'>\n",
              "\"\"\"\n",
              "                 Results: Ordinary least squares\n",
              "=================================================================\n",
              "Model:              OLS              Adj. R-squared:     0.157   \n",
              "Dependent Variable: MPG              AIC:                110.5440\n",
              "Date:               2020-08-19 01:13 BIC:                112.5354\n",
              "No. Observations:   20               Log-Likelihood:     -53.272 \n",
              "Df Model:           1                F-statistic:        4.532   \n",
              "Df Residuals:       18               Prob (F-statistic): 0.0473  \n",
              "R-squared:          0.201            Scale:              13.392  \n",
              "-------------------------------------------------------------------\n",
              "           Coef.    Std.Err.      t      P>|t|     [0.025    0.975]\n",
              "-------------------------------------------------------------------\n",
              "const     33.5348     2.6140   12.8291   0.0000   28.0431   39.0265\n",
              "EngDis    -0.0354     0.0166   -2.1287   0.0473   -0.0703   -0.0005\n",
              "-----------------------------------------------------------------\n",
              "Omnibus:               2.614        Durbin-Watson:          1.642\n",
              "Prob(Omnibus):         0.271        Jarque-Bera (JB):       1.072\n",
              "Skew:                  -0.482       Prob(JB):               0.585\n",
              "Kurtosis:              3.596        Condition No.:          502  \n",
              "=================================================================\n",
              "\n",
              "\"\"\""
            ]
          },
          "metadata": {
            "tags": []
          },
          "execution_count": 23
        }
      ]
    },
    {
      "cell_type": "code",
      "metadata": {
        "id": "G0-ooKswR2jy",
        "colab": {
          "base_uri": "https://localhost:8080/",
          "height": 34
        },
        "outputId": "e6508280-957a-4c59-b5fb-b68c60005189"
      },
      "source": [
        "slr.params[0], slr.params[1]"
      ],
      "execution_count": null,
      "outputs": [
        {
          "output_type": "execute_result",
          "data": {
            "text/plain": [
              "(33.53478390129697, -0.03539707904418601)"
            ]
          },
          "metadata": {
            "tags": []
          },
          "execution_count": 41
        }
      ]
    },
    {
      "cell_type": "code",
      "metadata": {
        "id": "OoHV9yibR-Vg",
        "colab": {
          "base_uri": "https://localhost:8080/",
          "height": 102
        },
        "outputId": "850feffd-6b3c-4f63-cc25-47b168a87a90"
      },
      "source": [
        "dof = 18\n",
        "se = slr.bse\n",
        "\n",
        "t_critical = stats.t.isf(0.025, dof)\n",
        "print(t_critical)\n",
        "\n",
        "t_intercept = (slr.params[0]-0)/slr.bse[0]\n",
        "print(t_intercept)\n",
        "\n",
        "t_slope = (slr.params[1]-0)/slr.bse[1]\n",
        "print(t_slope)\n",
        "\n",
        "if (t_slope > t_critical):\n",
        "    Hypothesis_Status = 'Reject Null Hypothesis : Significant'\n",
        "else:\n",
        "    Hypothesis_Status = 'Do not reject Null Hypothesis : t-value is NOT statistically significant'\n",
        "\n",
        "p_value = (1- stats.t.cdf(t_critical,dof))\n",
        "print(p_value)\n",
        "\n",
        "print(Hypothesis_Status)"
      ],
      "execution_count": null,
      "outputs": [
        {
          "output_type": "stream",
          "text": [
            "2.10092204024096\n",
            "12.829097274360947\n",
            "-2.1287496788428366\n",
            "0.025000000000003908\n",
            "Do not reject Null Hypothesis : t-value is NOT statistically significant\n"
          ],
          "name": "stdout"
        }
      ]
    },
    {
      "cell_type": "markdown",
      "metadata": {
        "id": "r7aSoWkq2Rgo"
      },
      "source": [
        "**Let's find p-values for t-test**:"
      ]
    },
    {
      "cell_type": "code",
      "metadata": {
        "id": "rNO9UxWf2VOf",
        "colab": {
          "base_uri": "https://localhost:8080/",
          "height": 34
        },
        "outputId": "ac121065-aaea-4774-be77-c1fa83e52d3a"
      },
      "source": [
        "p_value_1 = 2*(1- stats.t.cdf(abs(t_intercept), data_size-2))\n",
        "p_value_2 = 2*(1- stats.t.cdf(abs(t_slope), data_size-2))\n",
        "print(p_value_1, p_value_2)"
      ],
      "execution_count": null,
      "outputs": [
        {
          "output_type": "stream",
          "text": [
            "1.708899688424026e-10 0.04734037583668704\n"
          ],
          "name": "stdout"
        }
      ]
    },
    {
      "cell_type": "markdown",
      "metadata": {
        "id": "ho4J-d1-Wz7X"
      },
      "source": [
        "> This means that no strong evidence that show $\\beta_1 \\ne 0$."
      ]
    },
    {
      "cell_type": "markdown",
      "metadata": {
        "id": "oaQTsXH3bAl8"
      },
      "source": [
        "#### **Analysis of Variance (ANOVA) Approach to Test Significance of Regression**\n",
        "\n",
        "This approach relies on the total variability in the response variable into the meaningful components.\n",
        "\n",
        "This can be explained by the amount of variability in each prediction explained by the regression line and the residual variation left unexplained by the regression line.\n",
        "\n",
        "> Let's dive into it:"
      ]
    },
    {
      "cell_type": "markdown",
      "metadata": {
        "id": "O09_Qb7DTtLC"
      },
      "source": [
        "Recall what the residual is. The residual is the error in the fit of the model for each observation of y. \n",
        "\n",
        "> **Sum of squares of the residuals are called error sum of squares ($SSE$)**:\n",
        "\n",
        "$SSE = \\sum_{i=1}^n (y_i-\\hat{y}_i)^2$\n",
        "\n",
        "\\\n",
        "\n",
        "The expected value of SSE:\n",
        "\n",
        "$ E[SSE] = (n-2)\\sigma^2$\n",
        "\n",
        "The variance of error term $\\sigma^2$ is unknown. The residuals are used to obtain an estimate of $\\sigma^2$.\n",
        "\n",
        "\\\n",
        "\n",
        "> **Unbiased estimator of variance $\\sigma^2$**:\n",
        "\n",
        "$\\hat{\\sigma}^2 = \\frac{SSE}{n-2}$\n",
        "\n",
        "\\\n",
        "\n",
        "> **Total sum of squares of the response variable y**:\n",
        "\n",
        "$SST = \\sum_{i=1}^n (y_i-\\bar{y})^2$\n",
        "\n",
        "\\\n",
        "\n",
        "SSE can also be found as:\n",
        "\n",
        "$SSE = SST - \\hat{\\beta}_1S_{xy}$\n",
        "\n",
        "\\\n",
        "\n",
        "> **Regression sum of squares can be presented as**:\n",
        "\n",
        "$SSR = \\sum_{i=1}^n (\\hat{y}_i-\\bar{y}_i)^2$\n",
        "\n",
        "\\\n",
        "\n",
        "Shortly,\n",
        "\n",
        "\n",
        "$SST = SSR + SSE$\n",
        "\n",
        "\\\n",
        "\n",
        "**Coefficient of Determination is shown as**:\n",
        "\n",
        "This is used to measure the adequacy of the regression model. it is also presented as the square of the correlation coefficient between x and y.\n",
        "\n",
        "We need to be careful about the $R^2$ value since the value may sometimes be misleading. For example, as long as we add new variables to the model, $R^2$ keeps increasing even though it does not necessarily mean that the model becomes more meaningful.\n",
        "\n",
        "**Important note**: $R^2$ does not measure the appropriateness of the model since it can be manipulated by adding more variables to the model. Therefore, obtaining a large $R^2$ does not imply that the regression model provides accurate predictions of future observations.\n",
        "\n",
        "$R^2 = \\frac{SSR}{SST} = 1 - \\frac{SSE}{SST}$\n",
        "\n",
        "\\\n",
        "\n",
        "Because of this concern, we can refer to **adjusted $R^2$** to assess the fit of the model.  \n",
        "\n",
        "> $Adj-R^2 = R_{adj}^2 = 1 - \\frac{SSE/(n-p)}{SST/(n-1)}$\n",
        "\n",
        "**Important note**: $R_{adj}^2$ only increases if the new variable reduces the error mean square. This statistic penalizes the analysts for adding terms to the model and protects the model against **overfitting**. This is an important statistic to be used in **variable selection**."
      ]
    },
    {
      "cell_type": "markdown",
      "metadata": {
        "id": "sH1vt7iMd9XG"
      },
      "source": [
        "To test if the null hypothesis is true, we apply f-statistics:\n",
        "\n",
        "<p align = \"center\"> $F_0 = \\frac{SSR/k}{SSE/(n-p)} = \\frac{MSR}{MSE}$\n",
        "\n",
        "> MSE and MSR are called mean squares. As shown in the formula: MSE = $\\hat{\\sigma}^2$\n",
        "\n",
        "We reject the null hypothesis if $f_0 \\gt f_{\\alpha,1,n-p}$\n",
        "\n",
        "Just as in simple linear regression, residual estimators and ANOVA approach follow the same structure but in a matrix form."
      ]
    },
    {
      "cell_type": "markdown",
      "metadata": {
        "id": "KkLcgw8TfSD0"
      },
      "source": [
        "#### Let's see how it works. Recall **Example 3**: "
      ]
    },
    {
      "cell_type": "code",
      "metadata": {
        "id": "UpcT50XgfyWC",
        "colab": {
          "base_uri": "https://localhost:8080/",
          "height": 317
        },
        "outputId": "eebaad91-5849-4aa0-d013-a76838886f3e"
      },
      "source": [
        "slr.summary2()"
      ],
      "execution_count": null,
      "outputs": [
        {
          "output_type": "execute_result",
          "data": {
            "text/html": [
              "<table class=\"simpletable\">\n",
              "<tr>\n",
              "        <td>Model:</td>               <td>OLS</td>         <td>Adj. R-squared:</td>     <td>0.157</td> \n",
              "</tr>\n",
              "<tr>\n",
              "  <td>Dependent Variable:</td>        <td>MPG</td>              <td>AIC:</td>         <td>110.5440</td>\n",
              "</tr>\n",
              "<tr>\n",
              "         <td>Date:</td>        <td>2020-08-19 02:25</td>        <td>BIC:</td>         <td>112.5354</td>\n",
              "</tr>\n",
              "<tr>\n",
              "   <td>No. Observations:</td>         <td>20</td>          <td>Log-Likelihood:</td>    <td>-53.272</td>\n",
              "</tr>\n",
              "<tr>\n",
              "       <td>Df Model:</td>              <td>1</td>           <td>F-statistic:</td>       <td>4.532</td> \n",
              "</tr>\n",
              "<tr>\n",
              "     <td>Df Residuals:</td>           <td>18</td>        <td>Prob (F-statistic):</td>  <td>0.0473</td> \n",
              "</tr>\n",
              "<tr>\n",
              "      <td>R-squared:</td>            <td>0.201</td>            <td>Scale:</td>         <td>13.392</td> \n",
              "</tr>\n",
              "</table>\n",
              "<table class=\"simpletable\">\n",
              "<tr>\n",
              "     <td></td>     <th>Coef.</th>  <th>Std.Err.</th>    <th>t</th>     <th>P>|t|</th> <th>[0.025</th>  <th>0.975]</th> \n",
              "</tr>\n",
              "<tr>\n",
              "  <th>const</th>  <td>33.5348</td>  <td>2.6140</td>  <td>12.8291</td> <td>0.0000</td> <td>28.0431</td> <td>39.0265</td>\n",
              "</tr>\n",
              "<tr>\n",
              "  <th>EngDis</th> <td>-0.0354</td>  <td>0.0166</td>  <td>-2.1287</td> <td>0.0473</td> <td>-0.0703</td> <td>-0.0005</td>\n",
              "</tr>\n",
              "</table>\n",
              "<table class=\"simpletable\">\n",
              "<tr>\n",
              "     <td>Omnibus:</td>     <td>2.614</td>  <td>Durbin-Watson:</td>   <td>1.642</td>\n",
              "</tr>\n",
              "<tr>\n",
              "  <td>Prob(Omnibus):</td>  <td>0.271</td> <td>Jarque-Bera (JB):</td> <td>1.072</td>\n",
              "</tr>\n",
              "<tr>\n",
              "       <td>Skew:</td>     <td>-0.482</td>     <td>Prob(JB):</td>     <td>0.585</td>\n",
              "</tr>\n",
              "<tr>\n",
              "     <td>Kurtosis:</td>    <td>3.596</td>  <td>Condition No.:</td>    <td>502</td> \n",
              "</tr>\n",
              "</table>"
            ],
            "text/plain": [
              "<class 'statsmodels.iolib.summary2.Summary'>\n",
              "\"\"\"\n",
              "                 Results: Ordinary least squares\n",
              "=================================================================\n",
              "Model:              OLS              Adj. R-squared:     0.157   \n",
              "Dependent Variable: MPG              AIC:                110.5440\n",
              "Date:               2020-08-19 02:25 BIC:                112.5354\n",
              "No. Observations:   20               Log-Likelihood:     -53.272 \n",
              "Df Model:           1                F-statistic:        4.532   \n",
              "Df Residuals:       18               Prob (F-statistic): 0.0473  \n",
              "R-squared:          0.201            Scale:              13.392  \n",
              "-------------------------------------------------------------------\n",
              "           Coef.    Std.Err.      t      P>|t|     [0.025    0.975]\n",
              "-------------------------------------------------------------------\n",
              "const     33.5348     2.6140   12.8291   0.0000   28.0431   39.0265\n",
              "EngDis    -0.0354     0.0166   -2.1287   0.0473   -0.0703   -0.0005\n",
              "-----------------------------------------------------------------\n",
              "Omnibus:               2.614        Durbin-Watson:          1.642\n",
              "Prob(Omnibus):         0.271        Jarque-Bera (JB):       1.072\n",
              "Skew:                  -0.482       Prob(JB):               0.585\n",
              "Kurtosis:              3.596        Condition No.:          502  \n",
              "=================================================================\n",
              "\n",
              "\"\"\""
            ]
          },
          "metadata": {
            "tags": []
          },
          "execution_count": 64
        }
      ]
    },
    {
      "cell_type": "code",
      "metadata": {
        "id": "oFnpiPeRhCsC",
        "colab": {
          "base_uri": "https://localhost:8080/",
          "height": 374
        },
        "outputId": "afe89621-87c4-4b02-807c-a746cf868c3e"
      },
      "source": [
        "predictions"
      ],
      "execution_count": null,
      "outputs": [
        {
          "output_type": "execute_result",
          "data": {
            "text/plain": [
              "0    30.10\n",
              "1    26.14\n",
              "2    27.41\n",
              "3    29.25\n",
              "4    28.19\n",
              "5    28.01\n",
              "6    28.76\n",
              "7    27.13\n",
              "8    29.50\n",
              "9    22.84\n",
              "10   28.12\n",
              "11   30.35\n",
              "12   29.32\n",
              "13   30.70\n",
              "14   27.91\n",
              "15   30.10\n",
              "16   27.13\n",
              "17   27.41\n",
              "18   29.22\n",
              "19   27.41\n",
              "dtype: float64"
            ]
          },
          "metadata": {
            "tags": []
          },
          "execution_count": 73
        }
      ]
    },
    {
      "cell_type": "markdown",
      "metadata": {
        "id": "Ee4mpZLFgRPH"
      },
      "source": [
        "Let's find **residuals**:"
      ]
    },
    {
      "cell_type": "code",
      "metadata": {
        "id": "ILhy351WEpoK",
        "colab": {
          "base_uri": "https://localhost:8080/",
          "height": 34
        },
        "outputId": "dfbe4a39-7a40-4dd2-9cf7-3ba257f9ba2c"
      },
      "source": [
        "sse = 0\n",
        "ssr = 0\n",
        "for i in range(len(cars_df)):\n",
        "   sse = math.pow((cars_df['MPG'][i] - predictions[i]),2) + sse\n",
        "\n",
        "for i in range(len(cars_df)):\n",
        "   ssr = math.pow((predictions[i] - (sumy/data_size)),2) + ssr\n",
        "  \n",
        "sst = ssr + sse\n",
        "\n",
        "r2 = ssr/sst\n",
        "\n",
        "adj_r2 = 1- ((sse/(data_size-2))/(sst/(data_size-1)))\n",
        "\n",
        "print(sst, ssr, sse, r2, adj_r2)"
      ],
      "execution_count": null,
      "outputs": [
        {
          "output_type": "stream",
          "text": [
            "301.7500000000001 60.68829202125699 241.06170797874313 0.20112110031899574 0.15673893922560656\n"
          ],
          "name": "stdout"
        }
      ]
    },
    {
      "cell_type": "markdown",
      "metadata": {
        "id": "j5TEp3ZMgZ4X"
      },
      "source": [
        "Now let's apply f-test and find the **significance of regression**:"
      ]
    },
    {
      "cell_type": "code",
      "metadata": {
        "id": "dN0l82z5h2Ze",
        "colab": {
          "base_uri": "https://localhost:8080/",
          "height": 51
        },
        "outputId": "72efb2d8-f65c-4d07-808d-c3db3c48355b"
      },
      "source": [
        "msr = ssr /1\n",
        "mse = sse/(data_size-2)\n",
        "\n",
        "f0 = msr/mse\n",
        "\n",
        "print(msr, mse, f0)\n",
        "\n",
        "f_critical = stats.f.isf(0.025, 1, 18)\n",
        "\n",
        "if (f0 > f_critical):\n",
        "    Hypothesis_Status = 'Reject Null Hypothesis : Significant'\n",
        "else:\n",
        "    Hypothesis_Status = 'Do not reject Null Hypothesis : f-value is NOT statistically significant'\n",
        "\n",
        "print(Hypothesis_Status)"
      ],
      "execution_count": null,
      "outputs": [
        {
          "output_type": "stream",
          "text": [
            "60.68829202125699 13.392317109930174 4.531575195173482\n",
            "Do not reject Null Hypothesis : f-value is NOT statistically significant\n"
          ],
          "name": "stdout"
        }
      ]
    },
    {
      "cell_type": "markdown",
      "metadata": {
        "id": "QXkxdqhXqzOz"
      },
      "source": [
        "Let's find **p-value** for f-test:"
      ]
    },
    {
      "cell_type": "code",
      "metadata": {
        "id": "cD6RVZ6Sq3NV",
        "colab": {
          "base_uri": "https://localhost:8080/",
          "height": 34
        },
        "outputId": "772b8fb3-d03f-494b-bf4a-e1c53c735c6d"
      },
      "source": [
        "p_value_f = (1- stats.f.cdf(f0, 1, data_size-2))\n",
        "print(p_value_f)"
      ],
      "execution_count": null,
      "outputs": [
        {
          "output_type": "stream",
          "text": [
            "0.04734037583668704\n"
          ],
          "name": "stdout"
        }
      ]
    },
    {
      "cell_type": "markdown",
      "metadata": {
        "id": "-C67JFHJq5nC"
      },
      "source": [
        "Let's double check the analysis with Python built-in functions:"
      ]
    },
    {
      "cell_type": "code",
      "metadata": {
        "id": "1aKBPtWSqCYI",
        "colab": {
          "base_uri": "https://localhost:8080/",
          "height": 68
        },
        "outputId": "fd522ad8-d161-47bf-cf1d-e4b263357c32"
      },
      "source": [
        "from statsmodels.formula.api import ols\n",
        "from statsmodels.graphics.api import interaction_plot, abline_plot\n",
        "from statsmodels.stats.anova import anova_lm\n",
        "\n",
        "model = ols('MPG ~ C(EngDis)', data=cars_df).fit()\n",
        "anova_results = anova_lm(model)\n",
        "\n",
        "print(anova_results)"
      ],
      "execution_count": null,
      "outputs": [
        {
          "output_type": "stream",
          "text": [
            "             df  sum_sq  mean_sq     F  PR(>F)\n",
            "C(EngDis) 15.00  299.25    19.95 31.92    0.00\n",
            "Residual   4.00    2.50     0.62   nan     nan\n"
          ],
          "name": "stdout"
        }
      ]
    },
    {
      "cell_type": "markdown",
      "metadata": {
        "id": "Rx74yePntfw_"
      },
      "source": [
        "Based on the above table, studentized residuals are found by t-statistics, where residuals divided by estimated standard errors for each observation. Observations that are greater than 3 can be considered as outliers."
      ]
    },
    {
      "cell_type": "markdown",
      "metadata": {
        "id": "Q21uxm7u4CGk"
      },
      "source": [
        "Remember that there is always an error on these estimates since they are predictions.\n",
        "\n",
        "> To better describe this, we construct **confidence intervals** to describe error in estimation from a regression model.\n",
        "\n",
        "Let's dive into it:"
      ]
    },
    {
      "cell_type": "code",
      "metadata": {
        "id": "KC6LeYIwAn4p"
      },
      "source": [
        "#fitted_values = pd.Series(slr.fittedvalues, name=\"Fitted Values\")\n",
        "#fitted_values"
      ],
      "execution_count": null,
      "outputs": []
    },
    {
      "cell_type": "markdown",
      "metadata": {
        "id": "-DtW-uPO4aKC"
      },
      "source": [
        "In addition to point estimates of regression coefficients, we can also obtain confidence interval (CI) estimates of these parameters. The width of the CI is a measure of the quality of the regression line.\n",
        "\n",
        "If we assume that the observations in the regression model are normally and independently distributed, a 100(1-$\\alpha$)% CI on the slope $\\beta_1$ is shown:\n",
        "\n",
        "<p align = \"center\"> $\\hat{\\beta}_1 - t_{\\alpha/2, n-2}\\sqrt{\\frac{\\hat{\\sigma}^2}{S_{xx}}} \\le \\beta_1 \\le \\hat{\\beta}_1 + t_{\\alpha/2, n-2}\\sqrt{\\frac{\\hat{\\sigma}^2}{S_{xx}}}$\n",
        "\n",
        "Similarly, CI on the intercept:\n",
        "\n",
        "<p align = \"center\"> $\\hat{\\beta}_0 - t_{\\alpha/2, n-2}\\sqrt{\\hat{\\sigma}^2[\\frac{1}{n} + \\frac{\\bar{x}^2}{S_{xx}}]} \\le \\beta_0 \\le \\hat{\\beta}_0 + t_{\\alpha/2, n-2}\\sqrt{\\hat{\\sigma}^2[\\frac{1}{n} + \\frac{\\bar{x}^2}{S_{xx}}]}$"
      ]
    },
    {
      "cell_type": "code",
      "metadata": {
        "id": "QK7UeMdGBHRu",
        "colab": {
          "base_uri": "https://localhost:8080/",
          "height": 279
        },
        "outputId": "1e2458d5-f10b-4bdb-dd10-3f2f8213f2cb"
      },
      "source": [
        "ax = sns.regplot(x=\"EngDis\", y=\"MPG\", data=cars_df)"
      ],
      "execution_count": null,
      "outputs": [
        {
          "output_type": "display_data",
          "data": {
            "image/png": "[encoded data removed]",
            "text/plain": [
              "<Figure size 432x288 with 1 Axes>"
            ]
          },
          "metadata": {
            "tags": [],
            "needs_background": "light"
          }
        }
      ]
    },
    {
      "cell_type": "code",
      "metadata": {
        "id": "wM9nNP-kHz-M",
        "colab": {
          "base_uri": "https://localhost:8080/",
          "height": 34
        },
        "outputId": "56a893e1-fc05-413d-da42-39a9f8f2fd62"
      },
      "source": [
        "b1_lower = b1 - stats.t.isf(0.025, 18)*(math.sqrt(mse/sxx))\n",
        "b1_upper = b1 + stats.t.isf(0.025, 18)*(math.sqrt(mse/sxx))\n",
        "print(b1_lower, b1_upper)"
      ],
      "execution_count": null,
      "outputs": [
        {
          "output_type": "stream",
          "text": [
            "-0.07033143711512013 -0.0004627209732517776\n"
          ],
          "name": "stdout"
        }
      ]
    },
    {
      "cell_type": "markdown",
      "metadata": {
        "id": "j7QtlTvps4gp"
      },
      "source": [
        "There is a strong indication that the points lie scattered randomly around a straight line. It is reasonable to assume that the mean of the random variable Y is related to X by a straight-line relationship."
      ]
    },
    {
      "cell_type": "markdown",
      "metadata": {
        "id": "8so40k7C8pp_"
      },
      "source": [
        "There is a distribution of Y-values at each x and that the variance of this distribution is the **same** at each x.\n",
        "The values of the intercept $\\beta_0$, slope $\\beta_1$, and the error variance $\\sigma^2$ **are not known**, and they must be estimated from sample data."
      ]
    },
    {
      "cell_type": "markdown",
      "metadata": {
        "id": "7XepVDelwgby"
      },
      "source": [
        "Sometimes a model like this will arise from a theoretical relationship. \n",
        "\n",
        "However, in many real-life cases, no theoretical knowledge of\n",
        "the relationship between x and y arise. In such cases, the regression model is considered as an **empirical model**."
      ]
    },
    {
      "cell_type": "markdown",
      "metadata": {
        "id": "zzQPEpz7CdwC"
      },
      "source": [
        "### **Example 4**\n",
        "\n",
        "Let's recall the spot freight case study."
      ]
    },
    {
      "cell_type": "code",
      "metadata": {
        "id": "hr_sHl2JejC4",
        "colab": {
          "resources": {
            "http://localhost:8080/nbextensions/google.colab/files.js": {
              "data": "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",
              "ok": true,
              "headers": [
                [
                  "content-type",
                  "application/javascript"
                ]
              ],
              "status": 200,
              "status_text": ""
            }
          },
          "base_uri": "https://localhost:8080/",
          "height": 307
        },
        "outputId": "695df327-352f-4869-e6ce-3e8618aa89d2"
      },
      "source": [
        "from google.colab import files\n",
        "uploaded=files.upload()\n",
        "import io\n",
        "freight=pd.read_csv(io.StringIO(uploaded['Data_update.csv'].decode('utf-8')))\n",
        "print(freight)"
      ],
      "execution_count": null,
      "outputs": [
        {
          "output_type": "display_data",
          "data": {
            "text/html": [
              "\n",
              "     <input type=\"file\" id=\"files-3631e890-54e5-44e1-b03c-9a8303dc4123\" name=\"files[]\" multiple disabled\n",
              "        style=\"border:none\" />\n",
              "     <output id=\"result-3631e890-54e5-44e1-b03c-9a8303dc4123\">\n",
              "      Upload widget is only available when the cell has been executed in the\n",
              "      current browser session. Please rerun this cell to enable.\n",
              "      </output>\n",
              "      <script src=\"/nbextensions/google.colab/files.js\"></script> "
            ],
            "text/plain": [
              "<IPython.core.display.HTML object>"
            ]
          },
          "metadata": {
            "tags": []
          }
        },
        {
          "output_type": "stream",
          "text": [
            "Saving Data_update.csv to Data_update.csv\n",
            "    Spot rate  Oil Price  ...  Exporter PMI  Importer PMI\n",
            "0        1861     108.12  ...          50.4          54.9\n",
            "1        1858     109.37  ...          50.8          55.4\n",
            "2        1687     112.94  ...          51.0          55.3\n",
            "3        1786     107.70  ...          51.7          57.1\n",
            "4        2065     103.02  ...          51.1          59.0\n",
            "..        ...        ...  ...           ...           ...\n",
            "60       1541      71.62  ...          50.1          52.8\n",
            "61       1324      70.69  ...          49.4          52.1\n",
            "62       1340      62.22  ...          49.4          51.7\n",
            "63       1515      63.97  ...          49.7          51.2\n",
            "64       1340      59.63  ...          49.5          49.1\n",
            "\n",
            "[65 rows x 11 columns]\n"
          ],
          "name": "stdout"
        }
      ]
    },
    {
      "cell_type": "markdown",
      "metadata": {
        "id": "D-guX3EWewrj"
      },
      "source": [
        "#### **a. Fit a multiple linear regression model to this dataset.**"
      ]
    },
    {
      "cell_type": "code",
      "metadata": {
        "id": "CFoZdfiJfOqD",
        "cellView": "form"
      },
      "source": [
        "#@title\n",
        "from sklearn.preprocessing import MinMaxScaler\n",
        "from sklearn import preprocessing\n",
        "\n",
        "Q1 = freight.quantile(0.25)\n",
        "Q3 = freight.quantile(0.75)\n",
        "IQR = Q3 - Q1\n",
        "\n",
        "freight = freight[~((freight< (Q1 - 1.5 * IQR)) |(freight> (Q3 + 1.5 * IQR))).any(axis=1)]\n",
        "\n",
        "names = freight.columns\n",
        "scaler = MinMaxScaler()\n",
        "freight = scaler.fit_transform(freight)\n",
        "freight = pd.DataFrame(freight, columns=names)\n",
        "pd.options.display.float_format = '{:,.2f}'.format"
      ],
      "execution_count": null,
      "outputs": []
    },
    {
      "cell_type": "code",
      "metadata": {
        "id": "lX7eCGtbi_Tk",
        "colab": {
          "base_uri": "https://localhost:8080/",
          "height": 544
        },
        "outputId": "38a2a54a-ce02-4c47-8ebf-0bc70f40c392"
      },
      "source": [
        "import statsmodels.api as sm\n",
        "\n",
        "X = freight[['Oil Price','Currency','Exporter CPI','Exporter GDP','Exporter Capacity', 'Importer Capacity','Exporter PMI']] \n",
        "\n",
        "y = freight['Spot rate']\n",
        "\n",
        "X = sm.add_constant(X)\n",
        "mlr = sm.OLS(y, X).fit()\n",
        "print(mlr.summary())"
      ],
      "execution_count": null,
      "outputs": [
        {
          "output_type": "stream",
          "text": [
            "                            OLS Regression Results                            \n",
            "==============================================================================\n",
            "Dep. Variable:              Spot rate   R-squared:                       0.406\n",
            "Model:                            OLS   Adj. R-squared:                  0.326\n",
            "Method:                 Least Squares   F-statistic:                     5.069\n",
            "Date:                Wed, 26 Aug 2020   Prob (F-statistic):           0.000196\n",
            "Time:                        05:56:18   Log-Likelihood:                 14.460\n",
            "No. Observations:                  60   AIC:                            -12.92\n",
            "Df Residuals:                      52   BIC:                             3.834\n",
            "Df Model:                           7                                         \n",
            "Covariance Type:            nonrobust                                         \n",
            "=====================================================================================\n",
            "                        coef    std err          t      P>|t|      [0.025      0.975]\n",
            "-------------------------------------------------------------------------------------\n",
            "const                 0.1243      0.137      0.910      0.367      -0.150       0.398\n",
            "Oil Price             1.1031      0.197      5.586      0.000       0.707       1.499\n",
            "Currency              0.5803      0.167      3.477      0.001       0.245       0.915\n",
            "Exporter CPI         -0.1587      0.159     -1.000      0.322      -0.477       0.160\n",
            "Exporter GDP         -0.2747      0.188     -1.464      0.149      -0.651       0.102\n",
            "Exporter Capacity    -0.1609      0.126     -1.274      0.208      -0.414       0.093\n",
            "Importer Capacity     0.0214      0.096      0.222      0.825      -0.172       0.215\n",
            "Exporter PMI         -0.3179      0.134     -2.378      0.021      -0.586      -0.050\n",
            "==============================================================================\n",
            "Omnibus:                        1.983   Durbin-Watson:                   0.848\n",
            "Prob(Omnibus):                  0.371   Jarque-Bera (JB):                1.470\n",
            "Skew:                           0.174   Prob(JB):                        0.480\n",
            "Kurtosis:                       2.317   Cond. No.                         16.8\n",
            "==============================================================================\n",
            "\n",
            "Warnings:\n",
            "[1] Standard Errors assume that the covariance matrix of the errors is correctly specified.\n"
          ],
          "name": "stdout"
        }
      ]
    },
    {
      "cell_type": "markdown",
      "metadata": {
        "id": "Xs0iQ_FKt7et"
      },
      "source": [
        "#### **b. Calculate t-test statistics for each regression coefficient. Using $\\alpha$ = 0.05, what conclusions can be drawn? Do all variables contribute to the model?**"
      ]
    },
    {
      "cell_type": "markdown",
      "metadata": {
        "id": "t01mpVW-uqZU"
      },
      "source": [
        "Before running t-statistic, we should identify the null and alternative hypotheses.\n",
        "\n",
        "$H_0$ : $\\beta_1 = \\beta_2 = \\beta_3 = ... = \\beta_7 = 0$\n",
        "\n",
        "$H_1$ : $\\beta_j \\ne 0$\n",
        "\n",
        "> t-test can be written as: \n",
        "\n",
        "$t_0 = \\frac{\\beta_j - \\beta{j,0}}{se(\\beta_j)}$\n",
        "\n",
        "Let's calculate t-statistic for each regression coefficient:"
      ]
    },
    {
      "cell_type": "code",
      "metadata": {
        "id": "uNA75DXzwS_e",
        "colab": {
          "base_uri": "https://localhost:8080/",
          "height": 190
        },
        "outputId": "4b608149-2ba0-42a8-8560-7dabc17e9bd4"
      },
      "source": [
        "t0_b0 = (mlr.params[0] - 0)/mlr.bse[0]\n",
        "t0_b1 = (mlr.params[1] - 0)/mlr.bse[1]\n",
        "t0_b2 = (mlr.params[2] - 0)/mlr.bse[2]\n",
        "t0_b3 = (mlr.params[3] - 0)/mlr.bse[3]\n",
        "t0_b4 = (mlr.params[4] - 0)/mlr.bse[4]\n",
        "t0_b5 = (mlr.params[5] - 0)/mlr.bse[5]\n",
        "t0_b6 = (mlr.params[6] - 0)/mlr.bse[6]\n",
        "t0_b7 = (mlr.params[7] - 0)/mlr.bse[7]\n",
        "\n",
        "print(t0_b0, t0_b1, t0_b2, t0_b3, t0_b4, t0_b5, t0_b6, t0_b7)\n",
        "\n",
        "for i in range(len(mlr.params)):\n",
        "  if (mlr.tvalues[i] > stats.t.isf(0.025, 52)):\n",
        "     Hypothesis_Status = 'Reject Null Hypothesis : Significant'\n",
        "  else:\n",
        "     Hypothesis_Status = 'Do not reject Null Hypothesis : Not Significant'\n",
        "  print(\"For t\" + str(i), \" \", Hypothesis_Status)\n",
        "\n",
        "#p_value = 2*(1- stats.t.cdf(t0_b0,52))\n",
        "#print(p_value)"
      ],
      "execution_count": null,
      "outputs": [
        {
          "output_type": "stream",
          "text": [
            "0.9104550733237123 5.58559482590126 3.4767929220499987 -1.0003316248351486 -1.4640896691228504 -1.273864750112317 0.22159276186352367 -2.3783840798370144\n",
            "For t0   Do not reject Null Hypothesis : Not Significant\n",
            "For t1   Reject Null Hypothesis : Significant\n",
            "For t2   Reject Null Hypothesis : Significant\n",
            "For t3   Do not reject Null Hypothesis : Not Significant\n",
            "For t4   Do not reject Null Hypothesis : Not Significant\n",
            "For t5   Do not reject Null Hypothesis : Not Significant\n",
            "For t6   Do not reject Null Hypothesis : Not Significant\n",
            "For t7   Do not reject Null Hypothesis : Not Significant\n"
          ],
          "name": "stdout"
        }
      ]
    },
    {
      "cell_type": "markdown",
      "metadata": {
        "id": "KpxlAMV91oRS"
      },
      "source": [
        "#### **c. Test for significance of regression using $\\alpha$ =0.05. What conclusions can you draw?**"
      ]
    },
    {
      "cell_type": "markdown",
      "metadata": {
        "id": "MYhoOQYF2HXm"
      },
      "source": [
        "Recall the significance of regression test.\n",
        "\n",
        "$F_0 = \\frac{SSR/k}{SSE/(n-p)} = \\frac{MSR}{MSE}$\n",
        "\n",
        "This test refers to f-statistic. Obtaining the f-test critical values, p-value can be calculated and compared with critical values.\n",
        "\n",
        "Let's find error sum of squares and regression sum of squares."
      ]
    },
    {
      "cell_type": "code",
      "metadata": {
        "id": "tdhcbMUw2GYC",
        "colab": {
          "base_uri": "https://localhost:8080/",
          "height": 221
        },
        "outputId": "ede9078a-2f99-471c-de74-aa9e1c363971"
      },
      "source": [
        "import statsmodels.api as sm\n",
        "from statsmodels.formula.api import ols\n",
        "from statsmodels.graphics.api import interaction_plot, abline_plot\n",
        "from statsmodels.stats.anova import anova_lm\n",
        "\n",
        "fitted = mlr.predict(X)\n",
        "\n",
        "predicts= {'actual':y,'predicted':fitted}\n",
        "\n",
        "f_test = pd.DataFrame(predicts,columns = ['actual', 'predicted'])\n",
        "f_test.head()\n",
        "\n",
        "f_test['errors'] = f_test['actual'] - f_test['predicted']\n",
        "f_test.head()\n",
        "\n",
        "f_test['squared errors'] = f_test['errors']**2\n",
        "print(f_test.head())\n",
        "\n",
        "sse = f_test['squared errors'].sum()\n",
        "print(sse)\n",
        "\n",
        "mean = f_test['actual'].mean()\n",
        "mean\n",
        "\n",
        "f_test['squared regression'] =  (f_test['predicted']-mean)**2\n",
        "f_test.head()\n",
        "\n",
        "ssr = f_test['squared regression'].sum()\n",
        "print(ssr)\n",
        "\n",
        "sst = sse+ssr\n",
        "\n",
        "msr = ssr/7\n",
        "print(msr)\n",
        "\n",
        "mse = sse/52\n",
        "print(mse)\n",
        "\n",
        "f_stats = msr/mse\n",
        "print(f_stats)\n",
        "\n",
        "p_value = (1- stats.f.cdf(f_stats, 7, 52))\n",
        "print(p_value)"
      ],
      "execution_count": null,
      "outputs": [
        {
          "output_type": "stream",
          "text": [
            "   actual  predicted  errors  squared errors\n",
            "0    0.81       0.94   -0.13            0.02\n",
            "1    0.71       0.72   -0.01            0.00\n",
            "2    0.70       0.69    0.01            0.00\n",
            "3    0.73       0.43    0.29            0.09\n",
            "4    0.74       0.41    0.33            0.11\n",
            "2.1694083699311615\n",
            "1.4803010892410666\n",
            "0.21147158417729522\n",
            "0.041719391729445415\n",
            "5.068903821721812\n",
            "0.00019591935536256155\n"
          ],
          "name": "stdout"
        }
      ]
    }
  ]
}